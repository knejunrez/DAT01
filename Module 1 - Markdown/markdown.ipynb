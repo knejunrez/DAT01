{
 "cells": [
  {
   "cell_type": "markdown",
   "metadata": {},
   "source": [
    "# Jupyter Notebook\n",
    "Jupyter Notebook is an open-source web application that allows you to create and share documents that contain live code, equations, visualizations, and narrative text. Notebook & Markdown is widely used for creating documentation and reports."
   ]
  },
  {
   "cell_type": "markdown",
   "metadata": {},
   "source": [
    "## Keyboard Shortcuts\n",
    "\n",
    "- **Shift + Enter**: Execute the current cell and move to the next one.\n",
    "- **Ctrl + Enter**: Execute the current cell and remain in the same cell.\n",
    "- **Esc**: Enter command mode, allowing for navigation and execution commands.\n",
    "- **Enter**: Enter edit mode for the currently selected cell.\n",
    "- **A (in command mode)**: Insert a new cell above the current cell.\n",
    "- **B (in command mode)**: Insert a new cell below the current cell.\n",
    "- **M (in command mode)**: Change the current cell to a Markdown cell.\n",
    "- **Y (in command mode)**: Change the current cell to a Code cell.\n",
    "\n"
   ]
  },
  {
   "cell_type": "markdown",
   "metadata": {},
   "source": [
    "## What is Markdown?\n",
    "\n",
    "Markdown is a lightweight markup language with plain-text formatting syntax, designed to be easy to read and write. It was created by John Gruber in 2004 with the goal of allowing people to write using an easy-to-read and easy-to-write plain text format, which could then be converted into structurally valid XHTML (or HTML). Markdown is widely used for creating documentation, writing README files for projects, and even writing emails."
   ]
  },
  {
   "cell_type": "markdown",
   "metadata": {},
   "source": [
    "# Heading 1, Title\n",
    "## Heading 2, Major Headings\n",
    "### Heading 3, Subheadings\n",
    "#### Heading 4, 4th Level Subheadings\n",
    "##### Heading 5, 5th Level Subheadings\n",
    "###### Heading 6, 6th Level Subheadings"
   ]
  },
  {
   "cell_type": "markdown",
   "metadata": {},
   "source": [
    "### Plain Text\n",
    "This is a sample of a plain text. You use plain text combined with simple symbols to add formatting, which makes the text both readable in its raw form and easily convertible to other formats.\n"
   ]
  },
  {
   "cell_type": "markdown",
   "metadata": {},
   "source": [
    "### Text Formatting\n",
    "\n",
    "<!-- CTRL + / : Create a comment in VSCode. -->\n",
    "<!-- Bold -->\n",
    "This is some **bold text**.\n",
    "This is some __bold text__.\n",
    "\n",
    "<!-- Italic -->\n",
    "This is some _italicized text_.\n",
    "This is some *italicized text*.\n",
    "\n",
    "<!-- Strikethrough -->\n",
    "This is an ~~invalid text~~.\n",
    "\n",
    "<!-- Subscript -->\n",
    "The chemical formula for water is H<sub>2</sub>O. \n",
    "\n",
    "<!-- Superscript -->\n",
    "The expression is x<sup>2</sup>."
   ]
  },
  {
   "cell_type": "markdown",
   "metadata": {},
   "source": [
    "<!-- Horizontal Rules -->\n",
    "\n",
    "<!-- Hypen -->\n",
    "---\n",
    "\n",
    "<!-- Asterisk -->\n",
    "***\n",
    "\n",
    "<!-- Underscore -->\n",
    "___"
   ]
  },
  {
   "cell_type": "markdown",
   "metadata": {},
   "source": [
    "### Links\n",
    "<!-- Link -->\n",
    "<!-- [] - Link Text, () - Link -->\n",
    "[Google](https://www.google.com/)"
   ]
  },
  {
   "cell_type": "markdown",
   "metadata": {},
   "source": [
    "### Images\n",
    "<!-- [] - Alternative Text,  () - Link(Copy Image Address)/Path -->\n",
    "![Ichigo Image](https://static.wikia.nocookie.net/p__/images/2/22/Ichigo_Pre-Timeskip.png/revision/latest?cb=20200617153405&path-prefix=protagonist)"
   ]
  },
  {
   "cell_type": "markdown",
   "metadata": {},
   "source": [
    "<!-- [] - Alternative Text,  () - Path -->\n",
    "![Ichigo Image Downloaded](ichigo-image.webp)"
   ]
  },
  {
   "cell_type": "markdown",
   "metadata": {},
   "source": [
    "<!-- Adjust the width and height of the image -->\n",
    "<img src=\"ichigo-image.webp\" alt=\"Ichigo Image\" width=\"700\" height=\"300\">"
   ]
  },
  {
   "cell_type": "markdown",
   "metadata": {},
   "source": [
    "<!-- Create a button -->\n",
    "<button>Press</button>"
   ]
  },
  {
   "cell_type": "markdown",
   "metadata": {},
   "source": [
    "### Markdown Lists\n",
    "#### Unordered List\n",
    "- Apple\n",
    "- Banana\n",
    "- Cherry\n",
    "- Mango"
   ]
  },
  {
   "cell_type": "markdown",
   "metadata": {},
   "source": [
    "### Ordered List\n",
    "1. Red\n",
    "2. Orange\n",
    "3. Yellow\n",
    "4. Green\n",
    "5. Blue\n",
    "6. Indigo\n",
    "7. Violet"
   ]
  },
  {
   "cell_type": "markdown",
   "metadata": {},
   "source": [
    "### Nested Lists\n",
    "- Boiled Egg in 3 Steps\n",
    "    1. Bring water to boil.\n",
    "    2. Add egg and cook for desired time.\n",
    "    3. Immediately shock in cold water.\n",
    "- Fried Egg in 3 Steps\n",
    "    1. Heat oil in a pan.\n",
    "    2. Crack the egg into the pan.\n",
    "    3. Cook until desired doneness."
   ]
  },
  {
   "cell_type": "markdown",
   "metadata": {},
   "source": [
    "### Tables\n",
    "1. Headers: Headers are defined by using a pipe symbol (|) to separate columns and hyphens (-) to separate the header row from the content rows. Each column's width is determined by the width of the content within it.\n",
    "2. Content Rows: Content rows follow the same format as the header row. Each cell's content is separated by pipe symbols (|).\n",
    "3. Formatting: You can include basic formatting within cells, such as italics, bold, or links, just like in regular Markdown text."
   ]
  },
  {
   "cell_type": "markdown",
   "metadata": {},
   "source": [
    "| Product Name | Quantity | Unit Price |\n",
    "| ------------ | :--------: | ----------: |\n",
    "| Product *A*    | 100      | 20         |\n",
    "| Product _B_    | 120      | 40         |\n",
    "| Product __C__    | 300      | 60         |"
   ]
  }
 ],
 "metadata": {
  "language_info": {
   "name": "python"
  }
 },
 "nbformat": 4,
 "nbformat_minor": 2
}
