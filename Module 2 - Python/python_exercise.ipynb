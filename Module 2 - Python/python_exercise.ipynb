{
 "cells": [
  {
   "cell_type": "markdown",
   "metadata": {},
   "source": [
    "# **Python Exercise**"
   ]
  },
  {
   "cell_type": "markdown",
   "metadata": {},
   "source": [
    "## Exercise 1: Conditional Problem\n",
    "\n",
    "**Problem:** Create a dictionary to store information about a student: name, age, grade level, and average grade.\n",
    "\n",
    "1. If the average grade is 90 or above, print `\"Excellent!\"`.\n",
    "2. If the average grade is between 80 and 89, print `\"Very Good\"`.\n",
    "3. If the average grade is between 70 and 79, print `\"Good\"`.\n",
    "4. If the average grade is below 70, print `\"Needs Improvement\"`."
   ]
  },
  {
   "cell_type": "code",
   "execution_count": 3,
   "metadata": {},
   "outputs": [
    {
     "name": "stdout",
     "output_type": "stream",
     "text": [
      "Excellent!\n"
     ]
    }
   ],
   "source": [
    "# Dictionary to store student information\n",
    "student = {\n",
    "    \"name\": \"Richjun James Polinga\",\n",
    "    \"age\": 7,\n",
    "    \"grade_level\": 2,\n",
    "    \"average_grade\": 98  # Example average grade\n",
    "}\n",
    "\n",
    "# Check the average grade and print the appropriate message\n",
    "if student[\"average_grade\"] >= 90:\n",
    "    print(\"Excellent!\")\n",
    "elif 80 <= student[\"average_grade\"] < 90:\n",
    "    print(\"Very Good\")\n",
    "elif 70 <= student[\"average_grade\"] < 80:\n",
    "    print(\"Good\")\n",
    "else:\n",
    "    print(\"Needs Improvement\")\n"
   ]
  },
  {
   "cell_type": "markdown",
   "metadata": {},
   "source": [
    "## Exercise 2: Looping Problem\n",
    "\n",
    "Problem: Create a list of 5 numbers.\n",
    "\n",
    "1. Iterate through the list and print each number.\n",
    "2. Calculate the sum of all numbers in the list."
   ]
  },
  {
   "cell_type": "code",
   "execution_count": 2,
   "metadata": {},
   "outputs": [
    {
     "name": "stdout",
     "output_type": "stream",
     "text": [
      "10\n",
      "20\n",
      "30\n",
      "40\n",
      "50\n",
      "Sum of all numbers: 150\n"
     ]
    }
   ],
   "source": [
    "\n",
    "\n",
    "# List of 5 numbers\n",
    "numbers = [10, 20, 30, 40, 50]\n",
    "\n",
    "# 1. Iterate through the list and print each number\n",
    "for number in numbers:\n",
    "    print(number)\n",
    "\n",
    "   \n",
    "# 2. Calculate the sum of all numbers in the list\n",
    "total_sum = sum(numbers)\n",
    "print(\"Sum of all numbers:\", total_sum)\n",
    "\n"
   ]
  }
 ],
 "metadata": {
  "kernelspec": {
   "display_name": "Python 3",
   "language": "python",
   "name": "python3"
  },
  "language_info": {
   "codemirror_mode": {
    "name": "ipython",
    "version": 3
   },
   "file_extension": ".py",
   "mimetype": "text/x-python",
   "name": "python",
   "nbconvert_exporter": "python",
   "pygments_lexer": "ipython3",
   "version": "3.13.0"
  }
 },
 "nbformat": 4,
 "nbformat_minor": 2
}
