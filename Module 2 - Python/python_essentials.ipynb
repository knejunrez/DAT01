{
 "cells": [
  {
   "cell_type": "markdown",
   "metadata": {},
   "source": [
    "# **Python Key Points**\n",
    "1. **Interpreted Language**: Python is an interpreted language, which means that code is executed line by line by the Python interpreter. This allows for easier debugging and faster development cycles.\n",
    "2. **High-Level Language**: Python is designed to be human-readable and has a simple and easy-to-learn syntax. This makes it suitable for beginners and experienced programmers alike.\n",
    "3. **Dynamically Typed**: Python is dynamically typed, meaning that you don't need to declare variable types explicitly. The type of a variable is inferred at runtime based on the value assigned to it.\n",
    "4. **Indentation**: Python uses indentation to define code blocks instead of curly braces or keywords like begin and end. This enforces clean and readable code but can also lead to syntax errors if not used correctly.\n",
    "5. **Versatile Usage**: Python is used for a wide range of applications, including web development, data science, machine learning, artificial intelligence, scientific computing, automation, scripting, and more. Its versatility and ease of use make it a popular choice across industries."
   ]
  },
  {
   "cell_type": "markdown",
   "metadata": {},
   "source": [
    "### Install `ipykernel`\n",
    "1. Run the cell then it will pop up a message saying.\n",
    "2. Running cells with `Python Version` requires ipykernel. \n",
    "3. Click install"
   ]
  },
  {
   "cell_type": "code",
   "execution_count": 1,
   "metadata": {},
   "outputs": [
    {
     "name": "stdout",
     "output_type": "stream",
     "text": [
      "Hello World!\n",
      "Hello Jok\n"
     ]
    }
   ],
   "source": [
    "print(\"Hello World!\")\n",
    "print(\"Hello Jok\")"
   ]
  },
  {
   "cell_type": "markdown",
   "metadata": {},
   "source": [
    "## **Commenting**\n",
    "Commenting is the process of adding annotations or remarks within your code to provide explanations, context, or documentation. Comments are not executed by the interpreter/compiler and are purely for the benefit of developers reading the code.\n",
    "\n",
    "#### **Types of Comments:**"
   ]
  },
  {
   "cell_type": "markdown",
   "metadata": {},
   "source": [
    "- **Single-Line Comments:** These comments start with a specific character (e.g., # in Python) and continue until the end of the line. They are suitable for brief annotations or remarks on individual lines of code."
   ]
  },
  {
   "cell_type": "code",
   "execution_count": 2,
   "metadata": {},
   "outputs": [
    {
     "name": "stdout",
     "output_type": "stream",
     "text": [
      "Hello World\n"
     ]
    }
   ],
   "source": [
    "# This is a single-line comment.\n",
    "print(\"Hello World\")"
   ]
  },
  {
   "cell_type": "markdown",
   "metadata": {},
   "source": [
    "- **Multi-Line Comments:** While many programming languages support multi-line comments, Python does not have an explicit syntax for them. However, multi-line strings (docstrings) enclosed in triple quotes (\"\"\") are often used for this purpose. They are primarily intended for documenting modules, classes, functions, and methods."
   ]
  },
  {
   "cell_type": "code",
   "execution_count": 3,
   "metadata": {},
   "outputs": [
    {
     "name": "stdout",
     "output_type": "stream",
     "text": [
      "Hello World\n"
     ]
    }
   ],
   "source": [
    "\"\"\"\n",
    "    This is \n",
    "    a multi-line\n",
    "    comment.\n",
    "\"\"\"\n",
    "print(\"Hello World\")"
   ]
  },
  {
   "cell_type": "markdown",
   "metadata": {},
   "source": [
    "- **Inline Comments:** Inline comments appear on the same line as code and provide additional context or explanation for that specific line of code. However, excessive use of inline comments can clutter the code and reduce readability, so they should be used sparingly and only when necessary."
   ]
  },
  {
   "cell_type": "code",
   "execution_count": 4,
   "metadata": {},
   "outputs": [
    {
     "name": "stdout",
     "output_type": "stream",
     "text": [
      "Hello World\n"
     ]
    }
   ],
   "source": [
    "print(\"Hello World\") # This is an inline-comment"
   ]
  },
  {
   "cell_type": "markdown",
   "metadata": {},
   "source": [
    "## **Variables**\n",
    "\n",
    "#### **Creating Variables**\n",
    "\n",
    "Creating a variable in Python is simple. You assign a value to a variable name and start using it. Python figures out the variable type automatically.\n",
    "\n",
    "#### **Variable Naming Rules**\n",
    "- Variable names can contain letters (both uppercase and lowercase), digits, and underscores.\n",
    "- They must begin with a letter or an underscore (_), but not with a digit.\n",
    "- Case sensitive (myVar and myvar are different variables)\n",
    "- Python keywords cannot be used as variable names."
   ]
  },
  {
   "cell_type": "code",
   "execution_count": 5,
   "metadata": {},
   "outputs": [
    {
     "name": "stdout",
     "output_type": "stream",
     "text": [
      "10\n",
      "5\n",
      "10 5\n",
      "15\n"
     ]
    }
   ],
   "source": [
    "number = 10\n",
    "Number = 5\n",
    "second_number = 15 # Snake Case naming convention.\n",
    "print(number)\n",
    "print(Number)\n",
    "print(number, Number)\n",
    "print(second_number)"
   ]
  },
  {
   "cell_type": "code",
   "execution_count": 6,
   "metadata": {},
   "outputs": [
    {
     "name": "stdout",
     "output_type": "stream",
     "text": [
      "Hello World\n"
     ]
    }
   ],
   "source": [
    "# Python keywords cannot be used as variable names.\n",
    "# print = \"print\"\n",
    "print(\"Hello World\")"
   ]
  },
  {
   "cell_type": "markdown",
   "metadata": {},
   "source": [
    "## **Numeric Data Types**\n",
    "\n",
    "- **int** - Integer values, such as `5`, `-3`, `1000`, etc."
   ]
  },
  {
   "cell_type": "code",
   "execution_count": 7,
   "metadata": {},
   "outputs": [
    {
     "name": "stdout",
     "output_type": "stream",
     "text": [
      "30\n",
      "-30\n",
      "<class 'int'>\n",
      "<class 'int'>\n",
      "<class 'int'>\n"
     ]
    }
   ],
   "source": [
    "positive_integer = 30\n",
    "negative_integer = -30\n",
    "zero = 0\n",
    "print(positive_integer)\n",
    "print(negative_integer)\n",
    "# type(): identify the data type of a certain variable\n",
    "print(type(positive_integer))\n",
    "print(type(negative_integer))\n",
    "print(type(zero))"
   ]
  },
  {
   "cell_type": "markdown",
   "metadata": {},
   "source": [
    "- **float**: Floating-point values, representing decimal numbers, such as `3.14`, `-0.001`, `2.0`, etc."
   ]
  },
  {
   "cell_type": "code",
   "execution_count": 8,
   "metadata": {},
   "outputs": [
    {
     "name": "stdout",
     "output_type": "stream",
     "text": [
      "3.14 -3.14\n",
      "<class 'float'>\n",
      "<class 'float'>\n"
     ]
    }
   ],
   "source": [
    "positive_float = 3.14\n",
    "negative_float = -3.14\n",
    "print(positive_float, negative_float)\n",
    "print(type(positive_float))\n",
    "print(type(negative_float))"
   ]
  },
  {
   "cell_type": "markdown",
   "metadata": {},
   "source": [
    "## **Operators and Expressions**\n",
    "\n",
    "### **Arithmetic Operators**"
   ]
  },
  {
   "cell_type": "code",
   "execution_count": 9,
   "metadata": {},
   "outputs": [
    {
     "name": "stdout",
     "output_type": "stream",
     "text": [
      "Type of num1: <class 'int'>\n",
      "Addition (+): 15\n",
      "Subtraction (-): 5\n",
      "Multiplication (*): 50\n",
      "Division (/): 2.0\n",
      "Remainder (%): 1\n",
      "Remainder (%): 0\n",
      "Exponent (**): 100000\n",
      "Division (/): 2.0\n"
     ]
    }
   ],
   "source": [
    "num1 = 10\n",
    "num2 = 5\n",
    "print(\"Type of num1:\", type(num1))\n",
    "print(\"Addition (+):\", num1 + num2)\n",
    "print(\"Subtraction (-):\", num1 - num2)\n",
    "print(\"Multiplication (*):\", num1 * num2)\n",
    "print(\"Division (/):\", num1 / num2)\n",
    "\n",
    "print(\"Remainder (%):\", 13 % 2) # Odd: 1\n",
    "print(\"Remainder (%):\", 10 % 2) # Even: 0\n",
    "print(\"Exponent (**):\", num1 ** num2)\n",
    "print(\"Division (/):\", num1 / num2)"
   ]
  },
  {
   "cell_type": "code",
   "execution_count": 10,
   "metadata": {},
   "outputs": [
    {
     "name": "stdout",
     "output_type": "stream",
     "text": [
      "28.0\n"
     ]
    }
   ],
   "source": [
    "# Order of Operations\n",
    "# PEMDAS / BODMAS\n",
    "print(10 + 8 / 4 * (5 - 2) ** 2)"
   ]
  },
  {
   "cell_type": "markdown",
   "metadata": {},
   "source": [
    "### **Assignment Operators**"
   ]
  },
  {
   "cell_type": "code",
   "execution_count": 11,
   "metadata": {},
   "outputs": [
    {
     "name": "stdout",
     "output_type": "stream",
     "text": [
      "10\n",
      "The new value of num3 is: 15\n",
      "The new value of num3 is: 10\n",
      "The new value of num3 is: 50\n",
      "The new value of num3 is: 10.0\n"
     ]
    }
   ],
   "source": [
    "# 1. Single Equal Sign\n",
    "num3 = 10\n",
    "num4 = 5\n",
    "print(num3)\n",
    "# 2. Addition Assignment (+=)\n",
    "# num3 = num3 + num4\n",
    "num3 += num4\n",
    "print(\"The new value of num3 is:\", num3)\n",
    "# Computation: 10 + 5 = 15\n",
    "# 3. Subtraction Assignment (-=)\n",
    "num3 -= num4\n",
    "print(\"The new value of num3 is:\", num3)\n",
    "# Computation: 15 - 5 = 10\n",
    "# 4. Multiplication Assignment (*=)\n",
    "num3 *= num4\n",
    "print(\"The new value of num3 is:\", num3)\n",
    "# Computation: 10 * 5 = 50\n",
    "# 5. Division Assignment (/=)\n",
    "num3 /= num4\n",
    "print(\"The new value of num3 is:\", num3)\n",
    "# Computation: 50 / 5 = 10\n",
    "\n"
   ]
  },
  {
   "cell_type": "code",
   "execution_count": 12,
   "metadata": {},
   "outputs": [
    {
     "name": "stdout",
     "output_type": "stream",
     "text": [
      "Data Type: <class 'float'>\n"
     ]
    }
   ],
   "source": [
    "num5 = 10.5\n",
    "num6 = 5\n",
    "print(\"Data Type:\", type(num5 + num6))"
   ]
  },
  {
   "cell_type": "markdown",
   "metadata": {},
   "source": [
    "## **Boolean Data Type**\n",
    "- **bool**: Boolean values representing True or False."
   ]
  },
  {
   "cell_type": "code",
   "execution_count": 13,
   "metadata": {},
   "outputs": [
    {
     "name": "stdout",
     "output_type": "stream",
     "text": [
      "Is the user a student: False\n",
      "Data Type: <class 'bool'>\n"
     ]
    }
   ],
   "source": [
    "is_Student = False\n",
    "print(\"Is the user a student:\", is_Student)\n",
    "print(\"Data Type:\", type(is_Student))"
   ]
  },
  {
   "cell_type": "markdown",
   "metadata": {},
   "source": [
    "### **Comparison Operators**"
   ]
  },
  {
   "cell_type": "code",
   "execution_count": 14,
   "metadata": {},
   "outputs": [
    {
     "name": "stdout",
     "output_type": "stream",
     "text": [
      "Equal to (==): False\n",
      "Not Equal to (!=): True\n",
      "Greater than (>): True\n",
      "Less than (<): False\n",
      "Greater than or Equal to (>=): True\n",
      "Greater than or Equal to (>=): True\n",
      "Less than or Equal to(<=): False\n",
      "Less than or Equal to(<=): True\n"
     ]
    }
   ],
   "source": [
    "num7 = 10\n",
    "num8 = 5\n",
    "print(\"Equal to (==):\", num7 == num8)\n",
    "print(\"Not Equal to (!=):\", num7 != num8)\n",
    "print(\"Greater than (>):\", num7 > num8)\n",
    "print(\"Less than (<):\", num7 < num8)\n",
    "print(\"Greater than or Equal to (>=):\", num7 >= num8)\n",
    "print(\"Greater than or Equal to (>=):\", num7 >= 10)\n",
    "print(\"Less than or Equal to(<=):\", num7 <= num8)\n",
    "print(\"Less than or Equal to(<=):\", 5 <= num8)"
   ]
  },
  {
   "cell_type": "markdown",
   "metadata": {},
   "source": [
    "### **Logical Operators**"
   ]
  },
  {
   "cell_type": "code",
   "execution_count": 15,
   "metadata": {},
   "outputs": [
    {
     "name": "stdout",
     "output_type": "stream",
     "text": [
      "Is it sunny AND warm AND windy? False\n",
      "Is it sunny OR warm: True\n",
      "Not sunny: True\n"
     ]
    }
   ],
   "source": [
    "# AND, OR, NOT\n",
    "sunny = False\n",
    "warm = True\n",
    "windy = True\n",
    "# and: True if all variables are True, otherwise False\n",
    "print(\"Is it sunny AND warm AND windy?\", (sunny and warm) and windy)\n",
    "# or: True if at least one is True, otherwise False\n",
    "print(\"Is it sunny OR warm:\", sunny or warm)\n",
    "# not: Invert the value of a boolean\n",
    "print(\"Not sunny:\", not sunny)"
   ]
  },
  {
   "cell_type": "markdown",
   "metadata": {},
   "source": [
    "## **Strings and String Methods**\n",
    "\n",
    "Strings are sequences of characters and are among the most used data types in Python, especially in data analytics for processing text data.\n",
    "\n",
    "#### **Introduction to Strings**\n",
    "\n",
    "Strings in Python are created by enclosing characters in quotes. Python treats single quotes (') and double quotes (\") as the same, allowing you to incorporate one type of quote within another including an apostrophe within a string.\n",
    "\n",
    "#### **Creating and Accessing Strings**"
   ]
  },
  {
   "cell_type": "code",
   "execution_count": 16,
   "metadata": {},
   "outputs": [
    {
     "name": "stdout",
     "output_type": "stream",
     "text": [
      "Firstname: Angelo\n",
      "Lastname: Artajo\n",
      "Data Type: <class 'str'>\n",
      "Length of Firstname: 6\n"
     ]
    }
   ],
   "source": [
    "first_name = \"Angelo\"\n",
    "last_name = 'Artajo'\n",
    "print(\"Firstname:\", first_name)\n",
    "print(\"Lastname:\", last_name)\n",
    "print(\"Data Type:\", type(first_name))\n",
    "print(\"Length of Firstname:\", len(first_name))"
   ]
  },
  {
   "cell_type": "code",
   "execution_count": 17,
   "metadata": {},
   "outputs": [
    {
     "name": "stdout",
     "output_type": "stream",
     "text": [
      "First character: H\n",
      "Last character: .\n",
      "Last Character: .\n"
     ]
    }
   ],
   "source": [
    "# Indexing\n",
    "message = \"Hello Python! I love python.\"\n",
    "print(\"First character:\", message[0])\n",
    "print(\"Last character:\", message[-1])\n",
    "print(\"Last Character:\", message[len(message) - 1])"
   ]
  },
  {
   "cell_type": "code",
   "execution_count": 18,
   "metadata": {},
   "outputs": [
    {
     "name": "stdout",
     "output_type": "stream",
     "text": [
      "Equal to (==): False\n",
      "Not Equal to (!=): True\n",
      "Not Equal to (!=): False\n",
      "Not Equal to (!=): True\n",
      "1\n"
     ]
    }
   ],
   "source": [
    "word1 = \"Apple\"\n",
    "word2 = \"Orange\"\n",
    "print(\"Equal to (==):\", word1 == word2)\n",
    "print(\"Not Equal to (!=):\", word1 != word2)\n",
    "print(\"Not Equal to (!=):\", word1 > word2)\n",
    "print(\"Not Equal to (!=):\", word1 < word2)\n",
    "print(len(message[-1]))"
   ]
  },
  {
   "cell_type": "code",
   "execution_count": 19,
   "metadata": {},
   "outputs": [
    {
     "name": "stdout",
     "output_type": "stream",
     "text": [
      "Slice the string: Hello\n",
      "Step/Skip 2: HloPto!Ilv yhn\n",
      "Reverse Order: .nohtyp evol I !nohtyP olleH\n"
     ]
    }
   ],
   "source": [
    "# Slicing Parameters\n",
    "# [starting_index:ending_index(excluded):step]\n",
    "print(\"Slice the string:\", message[0:5])\n",
    "print(\"Step/Skip 2:\", message[::2])\n",
    "print(\"Reverse Order:\", message[::-1])"
   ]
  },
  {
   "cell_type": "markdown",
   "metadata": {},
   "source": [
    "### **String Methods**"
   ]
  },
  {
   "cell_type": "code",
   "execution_count": 20,
   "metadata": {},
   "outputs": [
    {
     "name": "stdout",
     "output_type": "stream",
     "text": [
      "Capitalize: Data analytics\n",
      "Title: Data Analytics\n",
      "Upper: DATA ANALYTICS\n",
      "Lower: data analytics\n"
     ]
    }
   ],
   "source": [
    "course = \"data analytics\"\n",
    "print(\"Capitalize:\", course.capitalize())\n",
    "print(\"Title:\", course.title())\n",
    "print(\"Upper:\", course.upper())\n",
    "print(\"Lower:\", course.lower())"
   ]
  },
  {
   "cell_type": "code",
   "execution_count": 21,
   "metadata": {},
   "outputs": [
    {
     "name": "stdout",
     "output_type": "stream",
     "text": [
      "Find analytics in course: 5\n",
      "Find science in course: -1\n",
      "Find a in course: 1\n",
      "Is analytics in course: True\n",
      "Is science in course: False\n"
     ]
    }
   ],
   "source": [
    "print(\"Find analytics in course:\", course.find(\"analytics\"))\n",
    "print(\"Find science in course:\", course.find(\"science\"))\n",
    "print(\"Find a in course:\", course.find(\"a\"))\n",
    "print(\"Is analytics in course:\", \"analytics\" in course)\n",
    "print(\"Is science in course:\", \"science\" in course)"
   ]
  },
  {
   "cell_type": "markdown",
   "metadata": {},
   "source": [
    "### **Concatenation, Formatted String, and .format() Method**"
   ]
  },
  {
   "cell_type": "markdown",
   "metadata": {},
   "source": [
    "- **Concatenation**"
   ]
  },
  {
   "cell_type": "code",
   "execution_count": 22,
   "metadata": {},
   "outputs": [
    {
     "name": "stdout",
     "output_type": "stream",
     "text": [
      "Angelo Artajo\n",
      "Concatenation: Angelo Artajo\n"
     ]
    }
   ],
   "source": [
    "print(first_name, last_name)\n",
    "print(\"Concatenation:\", first_name + \" \" + last_name)"
   ]
  },
  {
   "cell_type": "markdown",
   "metadata": {},
   "source": [
    "- **Formatted Strings Literals (f-strings)** "
   ]
  },
  {
   "cell_type": "code",
   "execution_count": 23,
   "metadata": {},
   "outputs": [
    {
     "name": "stdout",
     "output_type": "stream",
     "text": [
      "Formatted Strings:Angelo Artajo\n"
     ]
    }
   ],
   "source": [
    "print(f\"Formatted Strings:{first_name} {last_name}\")"
   ]
  },
  {
   "cell_type": "markdown",
   "metadata": {},
   "source": [
    "- **.format() method**"
   ]
  },
  {
   "cell_type": "code",
   "execution_count": 24,
   "metadata": {},
   "outputs": [
    {
     "name": "stdout",
     "output_type": "stream",
     "text": [
      "\n",
      "Hello my name Therese Marie Te!\n",
      "I am 18. I want to learn Data Analytics.\n",
      "\n"
     ]
    }
   ],
   "source": [
    "introduction = \"\"\"\n",
    "Hello my name {first_name} {last_name}!\n",
    "I am {age}. I want to learn {course}.\n",
    "\"\"\"\n",
    "print(introduction.format(first_name = \"Therese\",\n",
    "                          last_name=\"Marie Te\", \n",
    "                          age=18, \n",
    "                          course=\"Data Analytics\"))"
   ]
  },
  {
   "cell_type": "markdown",
   "metadata": {},
   "source": [
    "## **Lists and List Methods**\n",
    "\n",
    "#### **Introduction to Lists**\n",
    "\n",
    "Lists are mutable sequences, meaning you can modify them after creation. They can contain items of any type, making them incredibly versatile for data collection and manipulation tasks.\n",
    "\n",
    "- Mutability: Lists are mutable, meaning their elements can be changed after creation.\n",
    "- Syntax: Lists are enclosed in square brackets ([]), and elements are separated by commas.\n",
    "- Indexing and Ordering: Lists are ordered collections, preserving the order of elements. Elements can be accessed using indices.\n",
    "- Usage: Lists are suitable for mutable sequences of items, like arrays, stacks, or queues.\n",
    "\n",
    "#### **Creating and Modifying Lists**"
   ]
  },
  {
   "cell_type": "code",
   "execution_count": 25,
   "metadata": {},
   "outputs": [
    {
     "name": "stdout",
     "output_type": "stream",
     "text": [
      "[1, 2, 3, 4, 5]\n",
      "['Apple', 'Banana', 'Cherry']\n",
      "[30, 3.14, True, False, 'John']\n",
      "Data Type: <class 'list'>\n",
      "Length of Mixed List: 5\n"
     ]
    }
   ],
   "source": [
    "number = [1, 2, 3, 4, 5]\n",
    "fruits = [\"Apple\", \"Banana\", \"Cherry\"]\n",
    "mixed_list = [30, 3.14, True, False, \"John\"]\n",
    "print(number)\n",
    "print(fruits)\n",
    "print(mixed_list)\n",
    "print(\"Data Type:\", type(mixed_list))\n",
    "print(\"Length of Mixed List:\", len(mixed_list))"
   ]
  },
  {
   "cell_type": "code",
   "execution_count": 26,
   "metadata": {},
   "outputs": [
    {
     "name": "stdout",
     "output_type": "stream",
     "text": [
      "First Element: Apple\n",
      "Last Element: Cherry\n"
     ]
    }
   ],
   "source": [
    "# List Indexing\n",
    "print(\"First Element:\", fruits[0])\n",
    "print(\"Last Element:\", fruits[-1])"
   ]
  },
  {
   "cell_type": "code",
   "execution_count": 27,
   "metadata": {},
   "outputs": [
    {
     "name": "stdout",
     "output_type": "stream",
     "text": [
      "Fruits ['Banana', 'Cherry']\n",
      "Step 2: [1, 3, 5]\n",
      "Reverse Order: [5, 4, 3, 2, 1]\n"
     ]
    }
   ],
   "source": [
    "# List Slicing\n",
    "# [starting_index:ending_index(excluded):step]\n",
    "print(\"Fruits\", fruits[1:])\n",
    "print(\"Step 2:\", number[::2])\n",
    "print(\"Reverse Order:\", number[::-1])"
   ]
  },
  {
   "cell_type": "markdown",
   "metadata": {},
   "source": [
    "#### **List Methods**"
   ]
  },
  {
   "cell_type": "code",
   "execution_count": 28,
   "metadata": {},
   "outputs": [
    {
     "name": "stdout",
     "output_type": "stream",
     "text": [
      "Programming Languages: ['Python', 'Javascript', 'PHP', 'C++', 'C#', 'Ruby']\n",
      "Programming Languages: ['Python', 'Java', 'Javascript', 'PHP', 'C++', 'C#', 'Ruby']\n"
     ]
    }
   ],
   "source": [
    "# Adding\n",
    "programming_languages = [\"Python\", \"Javascript\", \"PHP\", \"C++\", \"C#\"]\n",
    "# append(element) - add an element at the end of the list\n",
    "programming_languages.append(\"Ruby\")\n",
    "print(\"Programming Languages:\", programming_languages)\n",
    "# insert(index, element) - add an element at a specific index\n",
    "programming_languages.insert(1, \"Java\")\n",
    "print(\"Programming Languages:\", programming_languages)"
   ]
  },
  {
   "cell_type": "code",
   "execution_count": 29,
   "metadata": {},
   "outputs": [
    {
     "name": "stdout",
     "output_type": "stream",
     "text": [
      "Programming Languages: ['Python', 'Java', 'Javascript', 'PHP', 'C++', 'C#']\n",
      "Programming Languages: ['Python', 'Javascript', 'PHP', 'C++', 'C#']\n"
     ]
    }
   ],
   "source": [
    "# Delete\n",
    "# .pop(index) - delete the element at the end/specified index\n",
    "programming_languages.pop()\n",
    "print(\"Programming Languages:\", programming_languages)\n",
    "programming_languages.pop(1)\n",
    "print(\"Programming Languages:\", programming_languages)"
   ]
  },
  {
   "cell_type": "code",
   "execution_count": 30,
   "metadata": {},
   "outputs": [
    {
     "name": "stdout",
     "output_type": "stream",
     "text": [
      "Programming Languages: ['Python', 'Placeholder', 'PHP', 'C++', 'C#']\n"
     ]
    }
   ],
   "source": [
    "programming_languages.pop(1)\n",
    "programming_languages.insert(1, \"Placeholder\")\n",
    "print(\"Programming Languages:\", programming_languages)\n",
    "popped_element = programming_languages.pop(1)"
   ]
  },
  {
   "cell_type": "markdown",
   "metadata": {},
   "source": [
    "#### **List Extending**"
   ]
  },
  {
   "cell_type": "markdown",
   "metadata": {},
   "source": [
    "#### **Sorting List**"
   ]
  },
  {
   "cell_type": "code",
   "execution_count": 31,
   "metadata": {},
   "outputs": [
    {
     "name": "stdout",
     "output_type": "stream",
     "text": [
      "[1, 2, 3, 4, 5, 6, 7, 8, 9]\n",
      "[9, 8, 7, 6, 5, 4, 3, 2, 1]\n",
      "['Arthur', 'Galahad', 'Lancelot', 'Percival']\n",
      "['Percival', 'Lancelot', 'Galahad', 'Arthur']\n"
     ]
    }
   ],
   "source": [
    "list_of_numbers_v2 = [9, 1, 8, 2, 7, 3, 6, 4, 5]\n",
    "list_of_numbers_v2.sort()\n",
    "print(list_of_numbers_v2)\n",
    "# Sorting in reverse order\n",
    "list_of_numbers_v2.sort(reverse=True)\n",
    "print(list_of_numbers_v2)\n",
    "list_of_names = [\"Lancelot\", \"Galahad\", \"Arthur\", \"Percival\"]\n",
    "list_of_names.sort()\n",
    "print(list_of_names)\n",
    "# Sorting in reverse order\n",
    "list_of_names.sort(reverse=True)\n",
    "print(list_of_names)"
   ]
  },
  {
   "cell_type": "markdown",
   "metadata": {},
   "source": [
    "## **Tuples**\n",
    "\n",
    "**Introduction to Tuples**\n",
    "\n",
    "Tuples are ordered collections of items, just like lists. However, their immutability makes them useful for fixed data sequences and can serve as keys in dictionaries due to their hashable nature.\n",
    "\n",
    "- Mutability: Tuples are immutable, meaning their elements cannot be changed after creation.\n",
    "- Syntax: Tuples are enclosed in parentheses (()), and elements are separated by commas.\n",
    "- Indexing and Ordering: Tuples are ordered collections, preserving the order of elements. Elements can be accessed using indices.\n",
    "- Usage: Tuples are suitable for immutable sequences, often used for fixed collections of data.\n",
    "\n",
    "#### **Creating a tuple**"
   ]
  },
  {
   "cell_type": "code",
   "execution_count": 32,
   "metadata": {},
   "outputs": [
    {
     "name": "stdout",
     "output_type": "stream",
     "text": [
      "Number Tuples: (1, 2, 3, 4, 5)\n",
      "Data Type of Tuples: <class 'tuple'>\n"
     ]
    }
   ],
   "source": [
    "numbers_tuple = (1, 2, 3, 4, 5)\n",
    "print(\"Number Tuples:\", numbers_tuple)\n",
    "print(\"Data Type of Tuples:\", type(numbers_tuple))"
   ]
  },
  {
   "cell_type": "markdown",
   "metadata": {},
   "source": [
    "#### **Accessing Elements**"
   ]
  },
  {
   "cell_type": "code",
   "execution_count": 33,
   "metadata": {},
   "outputs": [
    {
     "name": "stdout",
     "output_type": "stream",
     "text": [
      "First Element: 1\n",
      "Last Element: 5\n"
     ]
    }
   ],
   "source": [
    "\n",
    "print(\"First Element:\", numbers_tuple[0])\n",
    "print(\"Last Element:\", numbers_tuple[-1])"
   ]
  },
  {
   "cell_type": "markdown",
   "metadata": {},
   "source": [
    "#### **Tuple Immutability**"
   ]
  },
  {
   "cell_type": "code",
   "execution_count": 34,
   "metadata": {},
   "outputs": [],
   "source": [
    "# numbers_tuple[1] = \"two\"\n",
    "# print(numbers_tuple)\n",
    "# This will return a TypeError"
   ]
  },
  {
   "cell_type": "markdown",
   "metadata": {},
   "source": [
    "## **Dictionaries and Dictionary Methods**\n",
    "\n",
    "#### **Introduction to Dictionaries**\n",
    "\n",
    "Dictionaries in Python are unordered collections of items. While lists are indexed by a range of numbers, dictionaries are indexed by keys, which can be any immutable type; strings and numbers can always be keys.\n",
    "- Mutability: Dictionaries are mutable, meaning they can be modified by adding, updating, or removing key-value pairs.\n",
    "- Syntax: Dictionaries are enclosed in curly braces ({}), with key-value pairs separated by colons (:) and items separated by commas.\n",
    "- Indexing and Ordering: Dictionaries are unordered collections, and elements are accessed using keys rather than indices.\n",
    "- Usage: Dictionaries are suitable for key-value mappings, efficient lookup, and representing structured data\n",
    "\n",
    "#### **Creating a dictionary and accessing values**"
   ]
  },
  {
   "cell_type": "code",
   "execution_count": 35,
   "metadata": {},
   "outputs": [
    {
     "name": "stdout",
     "output_type": "stream",
     "text": [
      "Will Smith: {'first_name': 'Will', 'last_name': 'Smith', 'age': 30, 'address': '123 Example Street', 'is_married': True, 'skills': ['Singing', 'Acting', 'Dancing']}\n",
      "Data Type: <class 'dict'>\n"
     ]
    }
   ],
   "source": [
    "dict_person = {\n",
    "    \"first_name\": \"Will\",\n",
    "    \"last_name\": \"Smith\", \n",
    "    \"age\": 30, \n",
    "    \"address\": \"123 Example Street\",\n",
    "    \"is_married\": True,\n",
    "    \"skills\": [\"Singing\", \"Acting\", \"Dancing\"]\n",
    "}\n",
    "print(\"Will Smith:\", dict_person)\n",
    "print(\"Data Type:\", type(dict_person))"
   ]
  },
  {
   "cell_type": "code",
   "execution_count": 36,
   "metadata": {},
   "outputs": [
    {
     "name": "stdout",
     "output_type": "stream",
     "text": [
      "Firstname: Will\n",
      "Skills: ['Singing', 'Acting', 'Dancing']\n",
      "2nd Skills: Acting\n"
     ]
    }
   ],
   "source": [
    "print(\"Firstname:\", dict_person[\"first_name\"])\n",
    "print(\"Skills:\", dict_person[\"skills\"])\n",
    "print(\"2nd Skills:\", dict_person[\"skills\"][1])"
   ]
  },
  {
   "cell_type": "markdown",
   "metadata": {},
   "source": [
    "#### **Dictionary Methods**"
   ]
  },
  {
   "cell_type": "code",
   "execution_count": 37,
   "metadata": {},
   "outputs": [
    {
     "name": "stdout",
     "output_type": "stream",
     "text": [
      "Skills: ['Singing', 'Acting', 'Dancing']\n",
      "Gender: None\n",
      "{'first_name': 'Will', 'last_name': 'Smith', 'age': 30, 'address': '123 Example Street', 'is_married': True, 'skills': ['Singing', 'Acting', 'Dancing'], 'gender': 'Male'}\n"
     ]
    }
   ],
   "source": [
    "print(\"Skills:\", dict_person.get(\"skills\"))\n",
    "print(\"Gender:\", dict_person.get(\"gender\"))\n",
    "# ADD\n",
    "dict_person[\"gender\"] = \"Male\"\n",
    "print(dict_person)"
   ]
  },
  {
   "cell_type": "code",
   "execution_count": 38,
   "metadata": {},
   "outputs": [
    {
     "name": "stdout",
     "output_type": "stream",
     "text": [
      "Keys: dict_keys(['first_name', 'last_name', 'age', 'address', 'is_married', 'skills', 'gender'])\n",
      "Values: dict_values(['Will', 'Smith', 30, '123 Example Street', True, ['Singing', 'Acting', 'Dancing'], 'Male'])\n",
      "Key and Value Pair: dict_items([('first_name', 'Will'), ('last_name', 'Smith'), ('age', 30), ('address', '123 Example Street'), ('is_married', True), ('skills', ['Singing', 'Acting', 'Dancing']), ('gender', 'Male')])\n"
     ]
    }
   ],
   "source": [
    "print(\"Keys:\", dict_person.keys())\n",
    "print(\"Values:\", dict_person.values())\n",
    "print(\"Key and Value Pair:\", dict_person.items())"
   ]
  },
  {
   "cell_type": "code",
   "execution_count": 39,
   "metadata": {},
   "outputs": [
    {
     "name": "stdout",
     "output_type": "stream",
     "text": [
      "Will Smith: {'first_name': 'Will', 'last_name': 'Smith', 'age': 30, 'address': '123 Example Street', 'is_married': True, 'skills': ['Singing', 'Acting', 'Dancing']}\n"
     ]
    }
   ],
   "source": [
    "# Delete\n",
    "del dict_person[\"gender\"]\n",
    "print(\"Will Smith:\", dict_person)"
   ]
  },
  {
   "cell_type": "code",
   "execution_count": 40,
   "metadata": {},
   "outputs": [
    {
     "name": "stdout",
     "output_type": "stream",
     "text": [
      "Will Smith: {'first_name': 'Will', 'last_name': 'Smith', 'age': 30, 'is_married': True, 'skills': ['Singing', 'Acting', 'Dancing']}\n"
     ]
    }
   ],
   "source": [
    "dict_person.pop(\"address\")\n",
    "print(\"Will Smith:\", dict_person)"
   ]
  },
  {
   "cell_type": "code",
   "execution_count": 41,
   "metadata": {},
   "outputs": [
    {
     "name": "stdout",
     "output_type": "stream",
     "text": [
      "Will Smith: {'first_name': 'Will', 'last_name': 'Smith', 'age': 31, 'is_married': True, 'skills': ['Singing', 'Acting', 'Dancing']}\n"
     ]
    }
   ],
   "source": [
    "dict_person[\"age\"] = 31\n",
    "print(\"Will Smith:\", dict_person)"
   ]
  },
  {
   "cell_type": "markdown",
   "metadata": {},
   "source": [
    "## **Control Flow and Statements**"
   ]
  },
  {
   "cell_type": "markdown",
   "metadata": {},
   "source": [
    "#### **Conditional Statements:** \n",
    "Allow us to execute different blocks of code based on a condition.\n",
    "\n",
    "- **if, elif, else statements**"
   ]
  },
  {
   "cell_type": "code",
   "execution_count": null,
   "metadata": {},
   "outputs": [],
   "source": []
  },
  {
   "cell_type": "markdown",
   "metadata": {},
   "source": [
    "#### **Looping Statements:** \n",
    "Repeatedly execute a block of code until a specific condition is met.\n",
    "\n",
    "- **for Loop**"
   ]
  },
  {
   "cell_type": "code",
   "execution_count": null,
   "metadata": {},
   "outputs": [],
   "source": []
  },
  {
   "cell_type": "markdown",
   "metadata": {},
   "source": [
    "## **Functions**\n",
    "\n",
    "- Groups code together into a block.\n",
    "- Allows us to call and reuse code efficently.\n",
    "- It could take in information (parameters) and return information (return statement) to the caller."
   ]
  },
  {
   "cell_type": "code",
   "execution_count": null,
   "metadata": {},
   "outputs": [],
   "source": []
  }
 ],
 "metadata": {
  "kernelspec": {
   "display_name": "Python 3",
   "language": "python",
   "name": "python3"
  },
  "language_info": {
   "codemirror_mode": {
    "name": "ipython",
    "version": 3
   },
   "file_extension": ".py",
   "mimetype": "text/x-python",
   "name": "python",
   "nbconvert_exporter": "python",
   "pygments_lexer": "ipython3",
   "version": "3.13.0"
  }
 },
 "nbformat": 4,
 "nbformat_minor": 2
}
