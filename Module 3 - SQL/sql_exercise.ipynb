{
 "cells": [
  {
   "cell_type": "markdown",
   "metadata": {},
   "source": [
    "# **SQL Exercise**"
   ]
  },
  {
   "cell_type": "markdown",
   "metadata": {},
   "source": [
    "## **Activity 1** \n",
    "\n",
    "Practice performing CRUD operations (Create, Read, Update, Delete) on a database table.\n",
    "\n",
    "### **Perform the following tasks:**"
   ]
  },
  {
   "cell_type": "markdown",
   "metadata": {},
   "source": [
    "1. Connect to the database `abc_corp.db` and create the cursor."
   ]
  },
  {
   "cell_type": "code",
   "execution_count": 1,
   "metadata": {},
   "outputs": [],
   "source": [
    "import sqlite3\n",
    "\n",
    "# Connect to the database\n",
    "connection = sqlite3.connect('abc_corp.db')\n",
    "\n",
    "# Create a cursor object\n",
    "cursor = connection.cursor()\n"
   ]
  },
  {
   "cell_type": "markdown",
   "metadata": {},
   "source": [
    "2. `Create` a new table named books, with the following columns:\n",
    "  * book_id (primary Key)\n",
    "  * title (Title of the book)\n",
    "  * author (Author of the book)\n",
    "  * genre (Genre of the book)\n",
    "  * publication_year (Year of publication)\n",
    "  * price (Price of the Book)"
   ]
  },
  {
   "cell_type": "code",
   "execution_count": 2,
   "metadata": {},
   "outputs": [],
   "source": [
    "import sqlite3\n",
    "\n",
    "conn = sqlite3.connect('abc_corp.db')\n",
    "cursor = conn.cursor()\n",
    "\n",
    "# Create the books table\n",
    "cursor.execute('''\n",
    "CREATE TABLE IF NOT EXISTS books (\n",
    "    book_id INTEGER PRIMARY KEY AUTOINCREMENT,\n",
    "    title TEXT NOT NULL,\n",
    "    author TEXT NOT NULL,\n",
    "    genre TEXT,\n",
    "    publication_year INTEGER CHECK (publication_year > 0),\n",
    "    price REAL CHECK (price >= 0)\n",
    ");\n",
    "''')\n",
    "\n",
    "conn.commit()\n",
    "conn.close()"
   ]
  },
  {
   "cell_type": "markdown",
   "metadata": {},
   "source": [
    "3. `Insert` at least 5 new books into the books table."
   ]
  },
  {
   "cell_type": "code",
   "execution_count": 3,
   "metadata": {},
   "outputs": [],
   "source": [
    "import sqlite3\n",
    "\n",
    "conn = sqlite3.connect('abc_corp.db')\n",
    "cursor = conn.cursor()\n",
    "\n",
    "# Insert 5 new books into the books table\n",
    "books_to_insert = [\n",
    "    ('The Great Gatsby', 'F. Scott Fitzgerald', 'Fiction', 1925, 10.99),\n",
    "    ('To Kill a Mockingbird', 'Harper Lee', 'Fiction', 1960, 7.99),\n",
    "    ('1984', 'George Orwell', 'Dystopian', 1949, 8.99),\n",
    "    ('Pride and Prejudice', 'Jane Austen', 'Romance', 1813, 6.99),\n",
    "    ('The Catcher in the Rye', 'J.D. Salinger', 'Fiction', 1951, 9.99)\n",
    "]\n",
    "\n",
    "cursor.executemany('''\n",
    "INSERT INTO books (title, author, genre, publication_year, price) \n",
    "VALUES (?, ?, ?, ?, ?);\n",
    "''', books_to_insert)\n",
    "\n",
    "conn.commit()\n",
    "conn.close()"
   ]
  },
  {
   "cell_type": "markdown",
   "metadata": {},
   "source": [
    "4. `Retrieve` all books from the books table."
   ]
  },
  {
   "cell_type": "code",
   "execution_count": 4,
   "metadata": {},
   "outputs": [
    {
     "name": "stdout",
     "output_type": "stream",
     "text": [
      "(2, 'To Kill a Mockingbird', 'Harper Lee', 'Fiction', 1960, 7.99)\n",
      "(3, '1984', 'George Orwell', 'Dystopian', 1949, 8.99)\n",
      "(4, 'Pride and Prejudice', 'Jane Austen', 'Romance', 1813, 6.99)\n",
      "(5, 'The Catcher in the Rye', 'J.D. Salinger', 'Fiction', 1951, 9.99)\n",
      "(27, 'To Kill a Mockingbird', 'Harper Lee', 'Fiction', 1960, 7.99)\n",
      "(28, '1984', 'George Orwell', 'Dystopian', 1949, 8.99)\n",
      "(29, 'Pride and Prejudice', 'Jane Austen', 'Romance', 1813, 6.99)\n",
      "(30, 'The Catcher in the Rye', 'J.D. Salinger', 'Fiction', 1951, 9.99)\n",
      "(31, 'The Great Gatsby', 'F. Scott Fitzgerald', 'Fiction', 1925, 10.99)\n",
      "(32, 'To Kill a Mockingbird', 'Harper Lee', 'Fiction', 1960, 7.99)\n",
      "(33, '1984', 'George Orwell', 'Dystopian', 1949, 8.99)\n",
      "(34, 'Pride and Prejudice', 'Jane Austen', 'Romance', 1813, 6.99)\n",
      "(35, 'The Catcher in the Rye', 'J.D. Salinger', 'Fiction', 1951, 9.99)\n"
     ]
    }
   ],
   "source": [
    "import sqlite3\n",
    "\n",
    "conn = sqlite3.connect('abc_corp.db')\n",
    "cursor = conn.cursor()\n",
    "\n",
    "# Retrieve all books from the books table\n",
    "cursor.execute('SELECT * FROM books;')\n",
    "books = cursor.fetchall()\n",
    "for book in books:\n",
    "    print(book)\n",
    "\n",
    "conn.close()"
   ]
  },
  {
   "cell_type": "markdown",
   "metadata": {},
   "source": [
    "5. `Update` the price of a specific book."
   ]
  },
  {
   "cell_type": "code",
   "execution_count": 5,
   "metadata": {},
   "outputs": [
    {
     "name": "stdout",
     "output_type": "stream",
     "text": [
      "(2, 'To Kill a Mockingbird', 'Harper Lee', 'Fiction', 1960, 7.99)\n",
      "(3, '1984', 'George Orwell', 'Dystopian', 1949, 8.99)\n",
      "(4, 'Pride and Prejudice', 'Jane Austen', 'Romance', 1813, 6.99)\n",
      "(5, 'The Catcher in the Rye', 'J.D. Salinger', 'Fiction', 1951, 9.99)\n",
      "(27, 'To Kill a Mockingbird', 'Harper Lee', 'Fiction', 1960, 7.99)\n",
      "(28, '1984', 'George Orwell', 'Dystopian', 1949, 8.99)\n",
      "(29, 'Pride and Prejudice', 'Jane Austen', 'Romance', 1813, 6.99)\n",
      "(30, 'The Catcher in the Rye', 'J.D. Salinger', 'Fiction', 1951, 9.99)\n",
      "(31, 'The Great Gatsby', 'F. Scott Fitzgerald', 'Fiction', 1925, 12.99)\n",
      "(32, 'To Kill a Mockingbird', 'Harper Lee', 'Fiction', 1960, 7.99)\n",
      "(33, '1984', 'George Orwell', 'Dystopian', 1949, 8.99)\n",
      "(34, 'Pride and Prejudice', 'Jane Austen', 'Romance', 1813, 6.99)\n",
      "(35, 'The Catcher in the Rye', 'J.D. Salinger', 'Fiction', 1951, 9.99)\n"
     ]
    }
   ],
   "source": [
    "import sqlite3\n",
    "\n",
    "conn = sqlite3.connect('abc_corp.db')\n",
    "cursor = conn.cursor()\n",
    "\n",
    "# Update the price of a specific book\n",
    "new_price = 12.99\n",
    "book_title = 'The Great Gatsby'\n",
    "\n",
    "cursor.execute('''\n",
    "UPDATE books\n",
    "SET price = ?\n",
    "WHERE title = ?;\n",
    "''', (new_price, book_title)) \n",
    "\n",
    "\n",
    "cursor.execute('SELECT * FROM books;')\n",
    "books = cursor.fetchall()\n",
    "\n",
    "for book in books:\n",
    "    print(book)\n",
    "\n",
    "conn.commit()\n",
    "conn.close()"
   ]
  },
  {
   "cell_type": "markdown",
   "metadata": {},
   "source": [
    "6. `Delete` a book from the table."
   ]
  },
  {
   "cell_type": "code",
   "execution_count": 6,
   "metadata": {},
   "outputs": [
    {
     "name": "stdout",
     "output_type": "stream",
     "text": [
      "(2, 'To Kill a Mockingbird', 'Harper Lee', 'Fiction', 1960, 7.99)\n",
      "(3, '1984', 'George Orwell', 'Dystopian', 1949, 8.99)\n",
      "(4, 'Pride and Prejudice', 'Jane Austen', 'Romance', 1813, 6.99)\n",
      "(5, 'The Catcher in the Rye', 'J.D. Salinger', 'Fiction', 1951, 9.99)\n",
      "(27, 'To Kill a Mockingbird', 'Harper Lee', 'Fiction', 1960, 7.99)\n",
      "(28, '1984', 'George Orwell', 'Dystopian', 1949, 8.99)\n",
      "(29, 'Pride and Prejudice', 'Jane Austen', 'Romance', 1813, 6.99)\n",
      "(30, 'The Catcher in the Rye', 'J.D. Salinger', 'Fiction', 1951, 9.99)\n",
      "(32, 'To Kill a Mockingbird', 'Harper Lee', 'Fiction', 1960, 7.99)\n",
      "(33, '1984', 'George Orwell', 'Dystopian', 1949, 8.99)\n",
      "(34, 'Pride and Prejudice', 'Jane Austen', 'Romance', 1813, 6.99)\n",
      "(35, 'The Catcher in the Rye', 'J.D. Salinger', 'Fiction', 1951, 9.99)\n"
     ]
    }
   ],
   "source": [
    "import sqlite3\n",
    "\n",
    "\n",
    "conn = sqlite3.connect('abc_corp.db')\n",
    "cursor = conn.cursor()\n",
    "\n",
    "# Delete a specific book by title\n",
    "book_title = 'The Great Gatsby'\n",
    "\n",
    "cursor.execute('''\n",
    "DELETE FROM books\n",
    "WHERE title = ?;\n",
    "''', (book_title,))\n",
    "\n",
    "cursor.execute('SELECT * FROM books;')\n",
    "books = cursor.fetchall()\n",
    "\n",
    "for book in books:\n",
    "    print(book)\n",
    "conn.commit()\n",
    "conn.close()"
   ]
  },
  {
   "cell_type": "markdown",
   "metadata": {},
   "source": [
    "## **Activity 2** \n",
    "\n",
    "Practice using SQL queries with LIMIT, COUNT, and WHERE Clause along with comparison, logical, and special operators.\n",
    "\n",
    "### **Perform the following tasks:**"
   ]
  },
  {
   "cell_type": "markdown",
   "metadata": {},
   "source": [
    "1. Create a table named `Students` and add these columns:\n",
    "  * **student_id** : This column stores the unique identifier for each student, serving as the primary key of the table.\n",
    "  * **name** : It holds the full name of the student, allowing for the storage of both the first name and last name within a maximum length of 50 characters.\n",
    "  * **age** : This column represents the age of the student in years, stored as an integer value.\n",
    "  * **gender** : It stores the gender of the student, allowing for the classification as either \"Male\" or \"Female\" within a maximum length of 10 characters.\n",
    "  * **grade** : This column holds the grade level of the student, typically represented by a single character such as 'A', 'B', 'C', 'D', indicating academic performance or class standing."
   ]
  },
  {
   "cell_type": "code",
   "execution_count": 7,
   "metadata": {},
   "outputs": [
    {
     "name": "stdout",
     "output_type": "stream",
     "text": [
      "Table 'Students' created successfully.\n"
     ]
    }
   ],
   "source": [
    "import sqlite3\n",
    "\n",
    "conn = sqlite3.connect('abc_corp.db')\n",
    "cursor = conn.cursor()\n",
    "\n",
    "# SQL command to create the Students table\n",
    "create_table_query = '''\n",
    "CREATE TABLE IF NOT EXISTS Students (\n",
    "    student_id INTEGER PRIMARY KEY,\n",
    "    name TEXT NOT NULL,\n",
    "    age INTEGER NOT NULL,\n",
    "    gender TEXT CHECK(gender IN ('Male', 'Female')),\n",
    "    grade TEXT CHECK(grade IN ('A', 'B', 'C', 'D')) NOT NULL\n",
    ");\n",
    "'''\n",
    "\n",
    "cursor.execute(create_table_query)\n",
    "conn.commit()\n",
    "conn.close()\n",
    "\n",
    "print(\"Table 'Students' created successfully.\")"
   ]
  },
  {
   "cell_type": "markdown",
   "metadata": {},
   "source": [
    "2. Insert the provided data below into the students table."
   ]
  },
  {
   "cell_type": "markdown",
   "metadata": {},
   "source": [
    "| student_id | name             | age | gender | grade |\n",
    "| ---------- | ---------------- | --- | ------ | ----- |\n",
    "| 1          | John Di          | 18  | Male   | A     |\n",
    "| 2          | Emily Clark      | 17  | Female | B     |\n",
    "| 3          | Michael Santos   | 19  | Male   | C     |\n",
    "| 4          | Sarah Davis      | 16  | Female | A     |\n",
    "| 5          | David Poms       | 18  | Male   | B     |\n",
    "| 6          | Jessica Parker   | 17  | Female | A     |\n",
    "| 7          | Matthew Ross     | 19  | Male   | D     |\n",
    "| 8          | Ashey Lim        | 18  | Female | C     |\n",
    "| 9          | Christopher Chen | 17  | Male   | D     |\n",
    "| 10         | Amanda Hanes     | 16  | Female | B     |"
   ]
  },
  {
   "cell_type": "code",
   "execution_count": null,
   "metadata": {},
   "outputs": [
    {
     "ename": "OperationalError",
     "evalue": "database is locked",
     "output_type": "error",
     "traceback": [
      "\u001b[1;31m---------------------------------------------------------------------------\u001b[0m",
      "\u001b[1;31mOperationalError\u001b[0m                          Traceback (most recent call last)",
      "Cell \u001b[1;32mIn[10], line 44\u001b[0m\n\u001b[0;32m     38\u001b[0m insert_student_query \u001b[38;5;241m=\u001b[39m \u001b[38;5;124m'''\u001b[39m\n\u001b[0;32m     39\u001b[0m \u001b[38;5;124mINSERT INTO Students (student_id, name, age, gender, grade)\u001b[39m\n\u001b[0;32m     40\u001b[0m \u001b[38;5;124mVALUES (?, ?, ?, ?, ?);\u001b[39m\n\u001b[0;32m     41\u001b[0m \u001b[38;5;124m'''\u001b[39m\n\u001b[0;32m     43\u001b[0m \u001b[38;5;66;03m# Insert each student into the Students table\u001b[39;00m\n\u001b[1;32m---> 44\u001b[0m \u001b[43mcursor\u001b[49m\u001b[38;5;241;43m.\u001b[39;49m\u001b[43mexecutemany\u001b[49m\u001b[43m(\u001b[49m\u001b[43minsert_student_query\u001b[49m\u001b[43m,\u001b[49m\u001b[43m \u001b[49m\u001b[43mstudents\u001b[49m\u001b[43m)\u001b[49m\n\u001b[0;32m     46\u001b[0m \u001b[38;5;66;03m# Commit the changes\u001b[39;00m\n\u001b[0;32m     47\u001b[0m conn\u001b[38;5;241m.\u001b[39mcommit()\n",
      "\u001b[1;31mOperationalError\u001b[0m: database is locked"
     ]
    }
   ],
   "source": [
    "import sqlite3\n",
    "\n",
    "# Connect to the SQLite database (or create it if it doesn't exist)\n",
    "conn = sqlite3.connect('school.db')\n",
    "\n",
    "# Create a cursor object to execute SQL commands\n",
    "cursor = conn.cursor()\n",
    "\n",
    "# SQL command to create the Students table\n",
    "create_table_query = '''\n",
    "CREATE TABLE IF NOT EXISTS Students (\n",
    "    student_id INTEGER PRIMARY KEY,\n",
    "    name TEXT NOT NULL,\n",
    "    age INTEGER NOT NULL,\n",
    "    gender TEXT CHECK(gender IN ('Male', 'Female')),\n",
    "    grade TEXT CHECK(grade IN ('A', 'B', 'C', 'D')) NOT NULL\n",
    ");\n",
    "'''\n",
    "\n",
    "# Execute the SQL command to create the table\n",
    "cursor.execute(create_table_query)\n",
    "\n",
    "# List of students to insert\n",
    "students = [\n",
    "    (1, 'John Di', 18, 'Male', 'A'),\n",
    "    (2, 'Emily Clark', 17, 'Female', 'B'),\n",
    "    (3, 'Michael Santos', 19, 'Male', 'C'),\n",
    "    (4, 'Sarah Davis', 16, 'Female', 'A'),\n",
    "    (5, 'David Poms', 18, 'Male', 'B'),\n",
    "    (6, 'Jessica Parker', 17, 'Female', 'A'),\n",
    "    (7, 'Matthew Ross', 19, 'Male', 'D'),\n",
    "    (8, 'Ashey Lim', 18, 'Female', 'C'),\n",
    "    (9, 'Christopher Chen', 17, 'Male', 'D'),\n",
    "    (10, 'Amanda Hanes', 16, 'Female', 'B')\n",
    "]\n",
    "\n",
    "# SQL command to insert students\n",
    "insert_student_query = '''\n",
    "INSERT INTO Students (student_id, name, age, gender, grade)\n",
    "VALUES (?, ?, ?, ?, ?);\n",
    "'''\n",
    "\n",
    "# Insert each student into the Students table\n",
    "cursor.executemany(insert_student_query, students)\n",
    "conn.commit()\n",
    "conn.close()\n",
    "\n",
    "print(\"Data inserted successfully into the 'Students' table.\")"
   ]
  },
  {
   "cell_type": "markdown",
   "metadata": {},
   "source": [
    "3. Retrieve only the name and grade columns for all students."
   ]
  },
  {
   "cell_type": "code",
   "execution_count": 11,
   "metadata": {},
   "outputs": [
    {
     "name": "stdout",
     "output_type": "stream",
     "text": [
      "Name and Grade of Students:\n",
      "Name: John Di, Grade: A\n",
      "Name: Emily Clark, Grade: B\n",
      "Name: Michael Santos, Grade: C\n",
      "Name: Sarah Davis, Grade: A\n",
      "Name: David Poms, Grade: B\n",
      "Name: Jessica Parker, Grade: A\n",
      "Name: Matthew Ross, Grade: D\n",
      "Name: Ashey Lim, Grade: C\n",
      "Name: Christopher Chen, Grade: D\n",
      "Name: Amanda Hanes, Grade: B\n"
     ]
    }
   ],
   "source": [
    "import sqlite3\n",
    "\n",
    "# Connect to the SQLite database\n",
    "conn = sqlite3.connect('abc_corp.db')\n",
    "\n",
    "# Create a cursor object to execute SQL commands\n",
    "cursor = conn.cursor()\n",
    "\n",
    "# SQL query to select only the name and grade columns from the Students table\n",
    "select_query = '''\n",
    "SELECT name, grade FROM Students;\n",
    "'''\n",
    "\n",
    "# Execute the query\n",
    "cursor.execute(select_query)\n",
    "\n",
    "# Fetch all results\n",
    "results = cursor.fetchall()\n",
    "\n",
    "# Print the results\n",
    "print(\"Name and Grade of Students:\")\n",
    "for row in results:\n",
    "    print(f\"Name: {row[0]}, Grade: {row[1]}\")\n",
    "\n",
    "# Close the connection\n",
    "conn.close()"
   ]
  },
  {
   "cell_type": "markdown",
   "metadata": {},
   "source": [
    "4. Retrieve male students older than 18 years old."
   ]
  },
  {
   "cell_type": "code",
   "execution_count": 12,
   "metadata": {},
   "outputs": [
    {
     "name": "stdout",
     "output_type": "stream",
     "text": [
      "Male Students Older Than 18 Years:\n",
      "Student ID: 3, Name: Michael Santos, Age: 19, Gender: Male, Grade: C\n",
      "Student ID: 7, Name: Matthew Ross, Age: 19, Gender: Male, Grade: D\n"
     ]
    }
   ],
   "source": [
    "import sqlite3\n",
    "\n",
    "# Connect to the SQLite database\n",
    "conn = sqlite3.connect('abc_corp.db')\n",
    "\n",
    "# Create a cursor object to execute SQL commands\n",
    "cursor = conn.cursor()\n",
    "\n",
    "# SQL query to select male students older than 18 years\n",
    "select_query = '''\n",
    "SELECT * FROM Students\n",
    "WHERE gender = 'Male' AND age > 18;\n",
    "'''\n",
    "\n",
    "# Execute the query\n",
    "cursor.execute(select_query)\n",
    "\n",
    "# Fetch all results\n",
    "results = cursor.fetchall()\n",
    "\n",
    "# Print the results\n",
    "print(\"Male Students Older Than 18 Years:\")\n",
    "for row in results:\n",
    "    print(f\"Student ID: {row[0]}, Name: {row[1]}, Age: {row[2]}, Gender: {row[3]}, Grade: {row[4]}\")\n",
    "\n",
    "# Close the connection\n",
    "conn.close()"
   ]
  },
  {
   "cell_type": "markdown",
   "metadata": {},
   "source": [
    "5. Retrieve the name and age of students who are older than or equal to 18."
   ]
  },
  {
   "cell_type": "code",
   "execution_count": 13,
   "metadata": {},
   "outputs": [
    {
     "name": "stdout",
     "output_type": "stream",
     "text": [
      "Female Students Younger Than 18 Years:\n",
      "Student ID: 2, Name: Emily Clark, Age: 17, Gender: Female, Grade: B\n",
      "Student ID: 4, Name: Sarah Davis, Age: 16, Gender: Female, Grade: A\n",
      "Student ID: 6, Name: Jessica Parker, Age: 17, Gender: Female, Grade: A\n",
      "Student ID: 10, Name: Amanda Hanes, Age: 16, Gender: Female, Grade: B\n"
     ]
    }
   ],
   "source": [
    "import sqlite3\n",
    "\n",
    "# Connect to the SQLite database\n",
    "conn = sqlite3.connect('abc_corp.db')\n",
    "\n",
    "# Create a cursor object to execute SQL commands\n",
    "cursor = conn.cursor()\n",
    "\n",
    "# SQL query to select female students younger than 18 years\n",
    "select_query = '''\n",
    "SELECT * FROM Students\n",
    "WHERE gender = 'Female' AND age < 18;\n",
    "'''\n",
    "\n",
    "# Execute the query\n",
    "cursor.execute(select_query)\n",
    "\n",
    "# Fetch all results\n",
    "results = cursor.fetchall()\n",
    "\n",
    "# Print the results\n",
    "print(\"Female Students Younger Than 18 Years:\")\n",
    "for row in results:\n",
    "    print(f\"Student ID: {row[0]}, Name: {row[1]}, Age: {row[2]}, Gender: {row[3]}, Grade: {row[4]}\")\n",
    "\n",
    "# Close the connection\n",
    "conn.close()"
   ]
  },
  {
   "cell_type": "markdown",
   "metadata": {},
   "source": [
    "6. Retrieve the name and gender of students who are either 16 years old or have a grade of 'A'."
   ]
  },
  {
   "cell_type": "code",
   "execution_count": 14,
   "metadata": {},
   "outputs": [
    {
     "name": "stdout",
     "output_type": "stream",
     "text": [
      "Students Who Are 16 Years Old or Have a Grade of 'A':\n",
      "Name: John Di, Gender: Male\n",
      "Name: Sarah Davis, Gender: Female\n",
      "Name: Jessica Parker, Gender: Female\n",
      "Name: Amanda Hanes, Gender: Female\n"
     ]
    }
   ],
   "source": [
    "import sqlite3\n",
    "\n",
    "# Connect to the SQLite database\n",
    "conn = sqlite3.connect('abc_corp.db')\n",
    "\n",
    "# Create a cursor object to execute SQL commands\n",
    "cursor = conn.cursor()\n",
    "\n",
    "# SQL query to select name and gender of students who are either 16 years old or have a grade of 'A'\n",
    "select_query = '''\n",
    "SELECT name, gender FROM Students\n",
    "WHERE age = 16 OR grade = 'A';\n",
    "'''\n",
    "\n",
    "# Execute the query\n",
    "cursor.execute(select_query)\n",
    "\n",
    "# Fetch all results\n",
    "results = cursor.fetchall()\n",
    "\n",
    "# Print the results\n",
    "print(\"Students Who Are 16 Years Old or Have a Grade of 'A':\")\n",
    "for row in results:\n",
    "    print(f\"Name: {row[0]}, Gender: {row[1]}\")\n",
    "\n",
    "# Close the connection\n",
    "conn.close()"
   ]
  },
  {
   "cell_type": "markdown",
   "metadata": {},
   "source": [
    "7. Retrieve the name, age, and grade of female students who are younger than 18."
   ]
  },
  {
   "cell_type": "code",
   "execution_count": 15,
   "metadata": {},
   "outputs": [
    {
     "name": "stdout",
     "output_type": "stream",
     "text": [
      "Female Students Younger Than 18:\n",
      "Name: Emily Clark, Age: 17, Grade: B\n",
      "Name: Sarah Davis, Age: 16, Grade: A\n",
      "Name: Jessica Parker, Age: 17, Grade: A\n",
      "Name: Amanda Hanes, Age: 16, Grade: B\n"
     ]
    }
   ],
   "source": [
    "import sqlite3\n",
    "\n",
    "# Connect to the SQLite database\n",
    "conn = sqlite3.connect('abc_corp.db')\n",
    "\n",
    "# Create a cursor object to execute SQL commands\n",
    "cursor = conn.cursor()\n",
    "\n",
    "# SQL query to select name, age, and grade of female students who are younger than 18\n",
    "select_query = '''\n",
    "SELECT name, age, grade FROM Students\n",
    "WHERE gender = 'Female' AND age < 18;\n",
    "'''\n",
    "\n",
    "# Execute the query\n",
    "cursor.execute(select_query)\n",
    "\n",
    "# Fetch all results\n",
    "results = cursor.fetchall()\n",
    "\n",
    "# Print the results\n",
    "print(\"Female Students Younger Than 18:\")\n",
    "for row in results:\n",
    "    print(f\"Name: {row[0]}, Age: {row[1]}, Grade: {row[2]}\")\n",
    "\n",
    "# Close the connection\n",
    "conn.close()"
   ]
  },
  {
   "cell_type": "markdown",
   "metadata": {},
   "source": [
    "8. Retrieve the count of male students."
   ]
  },
  {
   "cell_type": "code",
   "execution_count": 17,
   "metadata": {},
   "outputs": [
    {
     "name": "stdout",
     "output_type": "stream",
     "text": [
      "Count of Male Students: 5\n"
     ]
    }
   ],
   "source": [
    "import sqlite3\n",
    "\n",
    "# Connect to the SQLite database\n",
    "conn = sqlite3.connect('abc_corp.db')\n",
    "\n",
    "# Create a cursor object to execute SQL commands\n",
    "cursor = conn.cursor()\n",
    "\n",
    "# SQL query to count the number of male students\n",
    "count_query = '''\n",
    "SELECT COUNT(*) FROM Students\n",
    "WHERE gender = 'Male';\n",
    "'''\n",
    "\n",
    "# Execute the query\n",
    "cursor.execute(count_query)\n",
    "\n",
    "# Fetch the result\n",
    "count_result = cursor.fetchone()\n",
    "\n",
    "# Print the count of male students\n",
    "print(f\"Count of Male Students: {count_result[0]}\")\n",
    "\n",
    "# Close the connection\n",
    "conn.close()"
   ]
  },
  {
   "cell_type": "markdown",
   "metadata": {},
   "source": [
    "9. Retrieve the students who are between 16 or 19 years old."
   ]
  },
  {
   "cell_type": "code",
   "execution_count": 18,
   "metadata": {},
   "outputs": [
    {
     "name": "stdout",
     "output_type": "stream",
     "text": [
      "Students Who Are 16 or 19 Years Old:\n",
      "(3, 'Michael Santos', 19, 'Male', 'C')\n",
      "(4, 'Sarah Davis', 16, 'Female', 'A')\n",
      "(7, 'Matthew Ross', 19, 'Male', 'D')\n",
      "(10, 'Amanda Hanes', 16, 'Female', 'B')\n"
     ]
    }
   ],
   "source": [
    "import sqlite3\n",
    "\n",
    "# Connect to the SQLite database\n",
    "conn = sqlite3.connect('abc_corp.db')\n",
    "\n",
    "# Create a cursor object to execute SQL commands\n",
    "cursor = conn.cursor()\n",
    "\n",
    "# SQL query to select students who are either 16 or 19 years old\n",
    "select_query = '''\n",
    "SELECT * FROM Students\n",
    "WHERE age = 16 OR age = 19;\n",
    "'''\n",
    "\n",
    "# Execute the query\n",
    "cursor.execute(select_query)\n",
    "\n",
    "# Fetch all results\n",
    "results = cursor.fetchall()\n",
    "\n",
    "# Print the results\n",
    "print(\"Students Who Are 16 or 19 Years Old:\")\n",
    "for row in results:\n",
    "    print(row)\n",
    "\n",
    "# Close the connection\n",
    "conn.close()"
   ]
  },
  {
   "cell_type": "markdown",
   "metadata": {},
   "source": [
    "10. Retrieve the name and grade of students whose grades are 'B' or 'C' and are older than or equal to 18 years old."
   ]
  },
  {
   "cell_type": "code",
   "execution_count": 19,
   "metadata": {},
   "outputs": [
    {
     "name": "stdout",
     "output_type": "stream",
     "text": [
      "Students with Grades 'B' or 'C' and Age >= 18:\n",
      "Name: Michael Santos, Grade: C\n",
      "Name: David Poms, Grade: B\n",
      "Name: Ashey Lim, Grade: C\n"
     ]
    }
   ],
   "source": [
    "import sqlite3\n",
    "\n",
    "# Connect to the SQLite database\n",
    "conn = sqlite3.connect('abc_corp.db')\n",
    "\n",
    "# Create a cursor object to execute SQL commands\n",
    "cursor = conn.cursor()\n",
    "\n",
    "# SQL query to select name and grade of students with grades 'B' or 'C' and age >= 18\n",
    "select_query = '''\n",
    "SELECT name, grade FROM Students\n",
    "WHERE (grade = 'B' OR grade = 'C') AND age >= 18;\n",
    "'''\n",
    "\n",
    "# Execute the query\n",
    "cursor.execute(select_query)\n",
    "\n",
    "# Fetch all results\n",
    "results = cursor.fetchall()\n",
    "\n",
    "# Print the results\n",
    "print(\"Students with Grades 'B' or 'C' and Age >= 18:\")\n",
    "for row in results:\n",
    "    print(f\"Name: {row[0]}, Grade: {row[1]}\")\n",
    "\n",
    "# Close the connection\n",
    "conn.close()"
   ]
  },
  {
   "cell_type": "markdown",
   "metadata": {},
   "source": [
    "11. Retrieve the name and age of students whose names start with 'A'."
   ]
  },
  {
   "cell_type": "code",
   "execution_count": 20,
   "metadata": {},
   "outputs": [
    {
     "name": "stdout",
     "output_type": "stream",
     "text": [
      "Students Whose Names Start with 'A':\n",
      "Name: Ashey Lim, Age: 18\n",
      "Name: Amanda Hanes, Age: 16\n"
     ]
    }
   ],
   "source": [
    "import sqlite3\n",
    "\n",
    "# Connect to the SQLite database\n",
    "conn = sqlite3.connect('abc_corp.db')\n",
    "\n",
    "# Create a cursor object to execute SQL commands\n",
    "cursor = conn.cursor()\n",
    "\n",
    "# SQL query to select name and age of students whose names start with 'A'\n",
    "select_query = '''\n",
    "SELECT name, age FROM Students\n",
    "WHERE name LIKE 'A%';\n",
    "'''\n",
    "\n",
    "# Execute the query\n",
    "cursor.execute(select_query)\n",
    "\n",
    "# Fetch all results\n",
    "results = cursor.fetchall()\n",
    "\n",
    "# Print the results\n",
    "print(\"Students Whose Names Start with 'A':\")\n",
    "for row in results:\n",
    "    print(f\"Name: {row[0]}, Age: {row[1]}\")\n",
    "\n",
    "# Close the connection\n",
    "conn.close()"
   ]
  },
  {
   "cell_type": "markdown",
   "metadata": {},
   "source": [
    "12. Retrieve the first 5 students whose names contain the letter 'i'."
   ]
  },
  {
   "cell_type": "code",
   "execution_count": 21,
   "metadata": {},
   "outputs": [
    {
     "name": "stdout",
     "output_type": "stream",
     "text": [
      "First 5 Students Whose Names Contain the Letter 'i':\n",
      "(1, 'John Di', 18, 'Male', 'A')\n",
      "(2, 'Emily Clark', 17, 'Female', 'B')\n",
      "(3, 'Michael Santos', 19, 'Male', 'C')\n",
      "(4, 'Sarah Davis', 16, 'Female', 'A')\n",
      "(5, 'David Poms', 18, 'Male', 'B')\n"
     ]
    }
   ],
   "source": [
    "import sqlite3\n",
    "\n",
    "# Connect to the SQLite database\n",
    "conn = sqlite3.connect('abc_corp.db')\n",
    "\n",
    "# Create a cursor object to execute SQL commands\n",
    "cursor = conn.cursor()\n",
    "\n",
    "# SQL query to select the first 5 students whose names contain the letter 'i'\n",
    "select_query = '''\n",
    "SELECT * FROM Students\n",
    "WHERE name LIKE '%i%'\n",
    "LIMIT 5;\n",
    "'''\n",
    "\n",
    "# Execute the query\n",
    "cursor.execute(select_query)\n",
    "\n",
    "# Fetch all results\n",
    "results = cursor.fetchall()\n",
    "\n",
    "# Print the results\n",
    "print(\"First 5 Students Whose Names Contain the Letter 'i':\")\n",
    "for row in results:\n",
    "    print(row)\n",
    "\n",
    "# Close the connection\n",
    "conn.close()"
   ]
  }
 ],
 "metadata": {
  "kernelspec": {
   "display_name": "Python 3",
   "language": "python",
   "name": "python3"
  },
  "language_info": {
   "codemirror_mode": {
    "name": "ipython",
    "version": 3
   },
   "file_extension": ".py",
   "mimetype": "text/x-python",
   "name": "python",
   "nbconvert_exporter": "python",
   "pygments_lexer": "ipython3",
   "version": "3.13.0"
  }
 },
 "nbformat": 4,
 "nbformat_minor": 2
}
