{
 "cells": [
  {
   "cell_type": "markdown",
   "metadata": {},
   "source": [
    "# **Module 3 - SQL CRUD Operations using SQLite Database**"
   ]
  },
  {
   "cell_type": "markdown",
   "metadata": {},
   "source": [
    "## **Structured Query Language(SQL)**\n",
    "- is a `programming language` used for **managing** and **manipulating data** held in a relational database management system (RDBMS).\n",
    "- specifically designed for interacting with databases. It allows you to perform various operations like **querying** data, **inserting** new records, **updating** existing records, and **deleting** records.\n",
    "\n",
    "### **Database Structure** \n",
    "- In SQL, data is stored in tables, which are organized into databases. \n",
    "- Each table consists of **rows** and **columns**. \n",
    "- `Rows` represent individual **records**, while `columns` represent **attributes** or **fields** of those records."
   ]
  },
  {
   "cell_type": "markdown",
   "metadata": {},
   "source": [
    "## **Import SQLite3**"
   ]
  },
  {
   "cell_type": "code",
   "execution_count": null,
   "metadata": {},
   "outputs": [],
   "source": []
  },
  {
   "cell_type": "markdown",
   "metadata": {},
   "source": [
    "# **Create SQLite Database**\n",
    "If you want to create the database file in the current directory (where your Jupyter Notebook is located) and specify the name of the database file, you can do it like this:\n",
    "\n",
    "Replace `database-name.db` with the desired name of your SQLite database file. When you run this command, it will create the SQLite database file in the current directory.\n",
    "\n",
    "Syntax:\n",
    "```\n",
    "conn = sqlite3.connect('database-name.db')\n",
    "```\n",
    "\n",
    "Example:"
   ]
  },
  {
   "cell_type": "code",
   "execution_count": 3,
   "metadata": {},
   "outputs": [],
   "source": [
    "conn = sqlite3.connect('abc_corp.db')"
   ]
  },
  {
   "cell_type": "markdown",
   "metadata": {},
   "source": [
    "## **Create a Cursor Object**\n",
    "\n",
    "- Create a cursor object using the `cursor()` method. The cursor is used to execute SQL commands:"
   ]
  },
  {
   "cell_type": "code",
   "execution_count": 4,
   "metadata": {},
   "outputs": [],
   "source": [
    "cursor = conn.cursor()"
   ]
  },
  {
   "cell_type": "markdown",
   "metadata": {},
   "source": [
    "## **Create Table**\n",
    "To define and create a new table in a database, you can use the `CREATE TABLE` statement.\n",
    "\n",
    "Syntax:\n",
    "```\n",
    "cursor.execute(\"\"\"\n",
    "CREATE TABLE IF NOT EXISTS table-name (\n",
    "    column1 data-type constraint,\n",
    "    column2 data-type constraint,\n",
    "    ...,\n",
    "    columnN data-type constraint\n",
    ");\"\"\")\n",
    "```\n",
    "\n",
    "Example:"
   ]
  },
  {
   "cell_type": "code",
   "execution_count": 5,
   "metadata": {},
   "outputs": [],
   "source": [
    "cursor.execute(\"\"\"\n",
    "CREATE TABLE IF NOT EXISTS employees (\n",
    "               employee_id INT PRIMARY KEY,\n",
    "               first_name VARCHAR(50) NOT NULL,\n",
    "               last_name VARCHAR(50) NOT NULL,\n",
    "               department VARCHAR(50),\n",
    "               salary DECIMAL(10, 2) NOT NULL\n",
    ")\n",
    "\"\"\")\n",
    "\n",
    "conn.commit()"
   ]
  },
  {
   "cell_type": "markdown",
   "metadata": {},
   "source": [
    "## **Check if the employee table is created successfully.**"
   ]
  },
  {
   "cell_type": "code",
   "execution_count": 6,
   "metadata": {},
   "outputs": [
    {
     "name": "stdout",
     "output_type": "stream",
     "text": [
      "The employees table exists inside of the database.\n"
     ]
    }
   ],
   "source": [
    "cursor.execute(\"SELECT name FROM sqlite_master WHERE type='table' and name='employees'\")\n",
    "table_exists = cursor.fetchone()\n",
    "\n",
    "if table_exists:\n",
    "    print(\"The employees table exists inside of the database.\")\n",
    "else:\n",
    "    print(\"The employee table doesn't exist inside of the database.\")"
   ]
  },
  {
   "cell_type": "markdown",
   "metadata": {},
   "source": [
    "## **Deleting a Table**\n",
    "\n",
    "If you want to delete the entire table, you can use the `DROP TABLE` statement.\n",
    "\n",
    "Syntax:\n",
    "```\n",
    "cursor.execute(\"DROP TABLE table-name;\")\n",
    "```\n",
    "\n",
    "Example:"
   ]
  },
  {
   "cell_type": "code",
   "execution_count": 7,
   "metadata": {},
   "outputs": [],
   "source": [
    "cursor.execute(\"DROP TABLE employees;\")\n",
    "conn.commit()"
   ]
  },
  {
   "cell_type": "code",
   "execution_count": 8,
   "metadata": {},
   "outputs": [
    {
     "name": "stdout",
     "output_type": "stream",
     "text": [
      "The employee table doesn't exist inside of the database.\n"
     ]
    }
   ],
   "source": [
    "cursor.execute(\"SELECT name FROM sqlite_master WHERE type='table' and name='employees'\")\n",
    "table_exists = cursor.fetchone()\n",
    "\n",
    "if table_exists:\n",
    "    print(\"The employees table exists inside of the database.\")\n",
    "else:\n",
    "    print(\"The employee table doesn't exist inside of the database.\")"
   ]
  },
  {
   "cell_type": "markdown",
   "metadata": {},
   "source": [
    "## **Recreate the Table**"
   ]
  },
  {
   "cell_type": "code",
   "execution_count": 1,
   "metadata": {},
   "outputs": [
    {
     "ename": "NameError",
     "evalue": "name 'cursor' is not defined",
     "output_type": "error",
     "traceback": [
      "\u001b[1;31m---------------------------------------------------------------------------\u001b[0m",
      "\u001b[1;31mNameError\u001b[0m                                 Traceback (most recent call last)",
      "Cell \u001b[1;32mIn[1], line 1\u001b[0m\n\u001b[1;32m----> 1\u001b[0m \u001b[43mcursor\u001b[49m\u001b[38;5;241m.\u001b[39mexecute(\u001b[38;5;124m\"\"\"\u001b[39m\n\u001b[0;32m      2\u001b[0m \u001b[38;5;124mCREATE TABLE IF NOT EXISTS employees (\u001b[39m\n\u001b[0;32m      3\u001b[0m \u001b[38;5;124m               employee_id INT PRIMARY KEY,\u001b[39m\n\u001b[0;32m      4\u001b[0m \u001b[38;5;124m               first_name VARCHAR(50) NOT NULL,\u001b[39m\n\u001b[0;32m      5\u001b[0m \u001b[38;5;124m               last_name VARCHAR(50) NOT NULL,\u001b[39m\n\u001b[0;32m      6\u001b[0m \u001b[38;5;124m               department VARCHAR(50),\u001b[39m\n\u001b[0;32m      7\u001b[0m \u001b[38;5;124m               salary DECIMAL(10, 2) NOT NULL\u001b[39m\n\u001b[0;32m      8\u001b[0m \u001b[38;5;124m)\u001b[39m\n\u001b[0;32m      9\u001b[0m \u001b[38;5;124m\"\"\"\u001b[39m)\n\u001b[0;32m     11\u001b[0m conn\u001b[38;5;241m.\u001b[39mcommit()\n",
      "\u001b[1;31mNameError\u001b[0m: name 'cursor' is not defined"
     ]
    }
   ],
   "source": [
    "cursor.execute(\"\"\"\n",
    "CREATE TABLE IF NOT EXISTS employees (\n",
    "               employee_id INT PRIMARY KEY,\n",
    "               first_name VARCHAR(50) NOT NULL,\n",
    "               last_name VARCHAR(50) NOT NULL,\n",
    "               department VARCHAR(50),\n",
    "               salary DECIMAL(10, 2) NOT NULL\n",
    ")\n",
    "\"\"\")\n",
    "\n",
    "conn.commit()"
   ]
  },
  {
   "cell_type": "markdown",
   "metadata": {},
   "source": [
    "## **Check the structure of the table**\n",
    "\n",
    "\n",
    "To display the structure of a table, including its fields (columns) even if it doesn't have any records yet, you can use database-specific commands:\n",
    "\n",
    "- `cid`: The **column ID**.\n",
    "- `name`: The **name** of the column.\n",
    "- `type`: The **data type** of the column.\n",
    "- `notnull`: Whether the column cannot contain **NULL values**.\n",
    "- `dflt_value`: The **default value** of the column.\n",
    "- `pk`: Whether the column is part of the **primary key**.\n",
    "\n",
    "Note: \n",
    "- We call columns of the table as `fields`.\n",
    "- We call tables as `schema`.\n",
    "\n",
    "\n",
    "Syntax:\n",
    "```\n",
    "cursor.execute(\"PRAGMA table_info('table-name');\")\n",
    "cursor.fetchall()\n",
    "```\n",
    "\n",
    "Example:"
   ]
  },
  {
   "cell_type": "code",
   "execution_count": 10,
   "metadata": {},
   "outputs": [
    {
     "data": {
      "text/plain": [
       "[(0, 'employee_id', 'INT', 0, None, 1),\n",
       " (1, 'first_name', 'VARCHAR(50)', 1, None, 0),\n",
       " (2, 'last_name', 'VARCHAR(50)', 1, None, 0),\n",
       " (3, 'department', 'VARCHAR(50)', 0, None, 0),\n",
       " (4, 'salary', 'DECIMAL(10, 2)', 1, None, 0)]"
      ]
     },
     "execution_count": 10,
     "metadata": {},
     "output_type": "execute_result"
    }
   ],
   "source": [
    "cursor.execute(\"PRAGMA table_info('employees')\")\n",
    "cursor.fetchall()"
   ]
  },
  {
   "cell_type": "markdown",
   "metadata": {},
   "source": [
    "## **Altering Table**\n",
    "\n",
    "You might need to alter the table structure at some point. For example, you can add a new column like this:\n",
    "\n",
    "Syntax:\n",
    "```\n",
    "cursor.execute(\"ALTER TABLE table-name ADD column-name data-type;\")\n",
    "```\n",
    "\n",
    "Example:"
   ]
  },
  {
   "cell_type": "code",
   "execution_count": 11,
   "metadata": {},
   "outputs": [],
   "source": [
    "cursor.execute(\"ALTER TABLE employees ADD hire_date DATE;\")\n",
    "conn.commit()"
   ]
  },
  {
   "cell_type": "code",
   "execution_count": 18,
   "metadata": {},
   "outputs": [],
   "source": [
    "cursor.execute(\"\"\"ALTER TABLE employees ADD performance_rating INT;\"\"\")\n",
    "conn.commit()"
   ]
  },
  {
   "cell_type": "code",
   "execution_count": 19,
   "metadata": {},
   "outputs": [],
   "source": [
    "cursor.execute(\"\"\"ALTER TABLE employees ADD birth_date DATE\"\"\")\n",
    "conn.commit()"
   ]
  },
  {
   "cell_type": "code",
   "execution_count": 20,
   "metadata": {},
   "outputs": [
    {
     "data": {
      "text/plain": [
       "[(0, 'employee_id', 'INT', 0, None, 1),\n",
       " (1, 'first_name', 'VARCHAR(50)', 1, None, 0),\n",
       " (2, 'last_name', 'VARCHAR(50)', 1, None, 0),\n",
       " (3, 'department', 'VARCHAR(50)', 0, None, 0),\n",
       " (4, 'salary', 'DECIMAL(10, 2)', 1, None, 0),\n",
       " (5, 'hire_date', 'DATE', 0, None, 0),\n",
       " (6, 'performance_rating', 'INT', 0, None, 0),\n",
       " (7, 'birth_date', 'DATE', 0, None, 0)]"
      ]
     },
     "execution_count": 20,
     "metadata": {},
     "output_type": "execute_result"
    }
   ],
   "source": [
    "cursor.execute(\"PRAGMA table_info('employees')\")\n",
    "cursor.fetchall()"
   ]
  },
  {
   "cell_type": "markdown",
   "metadata": {},
   "source": [
    "## **Inserting Data**\n",
    "\n",
    "You can insert data into the employees table using the `INSERT INTO` statement.\n",
    "\n",
    "Syntax:\n",
    "```\n",
    "cursor.execute(\"\"\"\n",
    "INSERT INTO table-name (column1, column2, ..., columnN) \n",
    "VALUES (value1, value2, ..., valueN);\n",
    "               \"\"\")\n",
    "```\n",
    "\n",
    "Example:"
   ]
  },
  {
   "cell_type": "code",
   "execution_count": null,
   "metadata": {},
   "outputs": [],
   "source": [
    "cursor.execute(\"\"\"\n",
    "INSERT INTO employees (employee_id, first_name, \n",
    "               last_name, department, salary, hire_date, performance_rating) \n",
    "               VALUES (1, 'John', 'Doe', 'Sales', 50000.00, '1997-01-07', 2);\n",
    "\"\"\")\n",
    "\n",
    "conn.commit()"
   ]
  },
  {
   "cell_type": "code",
   "execution_count": 22,
   "metadata": {},
   "outputs": [],
   "source": [
    "cursor.execute(\"\"\"\n",
    "    INSERT INTO employees (employee_id, first_name, last_name, department, salary, hire_date, performance_rating)\n",
    "VALUES (2, 'Jane', 'Smith', 'Marketing', 55000.00, '2024-04-26', 3);\n",
    "            \"\"\")\n",
    "\n",
    "cursor.execute(\"\"\"\n",
    "    INSERT INTO employees (employee_id, first_name, last_name, department, salary, hire_date, performance_rating)\n",
    "VALUES (3, 'Michael', 'Johnson', 'Sales', 60000.00, '2024-04-27', 5);\n",
    "            \"\"\")\n",
    "\n",
    "cursor.execute(\"\"\"\n",
    "    INSERT INTO employees (employee_id, first_name, last_name, department, salary, hire_date, performance_rating)\n",
    "VALUES (4, 'Emily', 'Davis', 'Operations', 62000.00, '2024-04-20', 2);\n",
    "            \"\"\")\n",
    "\n",
    "cursor.execute(\"\"\"\n",
    "               INSERT INTO employees (employee_id, first_name, last_name, department, salary, hire_date, performance_rating)\n",
    "VALUES (5, 'David', 'Wilson', 'Operations', 58000.00, '2024-04-28', 1);\n",
    "            \"\"\")\n",
    "\n",
    "cursor.execute(\"\"\"\n",
    "    INSERT INTO employees (employee_id, first_name, last_name, department, salary, hire_date, performance_rating)\n",
    "VALUES (6, 'Linda', 'Martinez', 'IT', 70000.00, '2024-04-29', 4);\n",
    "            \"\"\")\n",
    "\n",
    "cursor.execute(\"\"\"\n",
    "    INSERT INTO employees (employee_id, first_name, last_name, department, salary, hire_date, performance_rating)\n",
    "VALUES (7, 'Robert', 'Anderson', 'Finance', 65000.00, '2024-04-30', 3);\n",
    "            \"\"\")\n",
    "\n",
    "cursor.execute(\"\"\"\n",
    "    INSERT INTO employees (employee_id, first_name, last_name, department, salary, hire_date, performance_rating)\n",
    "VALUES (8, 'Patricia', 'Taylor', 'HR', 52000.00, '2024-05-01', 5);\n",
    "            \"\"\")\n",
    "\n",
    "cursor.execute(\"\"\"\n",
    "    INSERT INTO employees (employee_id, first_name, last_name, department, salary, hire_date, performance_rating)\n",
    "VALUES (9, 'Christopher', 'Thomas', 'Marketing', 59000.00, '2024-05-02', 2);\n",
    "            \"\"\")\n",
    "\n",
    "cursor.execute(\"\"\"\n",
    "    INSERT INTO employees (employee_id, first_name, last_name, department, salary, hire_date, performance_rating)\n",
    "VALUES (10, 'Jennifer', 'Lee', 'Sales', 63000.00, '2024-05-03', 3);\n",
    "            \"\"\")\n",
    "\n",
    "cursor.execute(\"\"\"\n",
    "    INSERT INTO employees (employee_id, first_name, last_name, department, salary, hire_date, performance_rating)\n",
    "VALUES (11, 'James', 'White', 'Operations', 56000.00, '2024-05-04', 4);\n",
    "            \"\"\")\n",
    "\n",
    "cursor.execute(\"\"\"\n",
    "    INSERT INTO employees (employee_id, first_name, last_name, department, salary, hire_date, performance_rating)\n",
    "VALUES (12, 'Barbara', 'Harris', 'IT', 68000.00, '2024-05-05', 1);\n",
    "            \"\"\")\n",
    "\n",
    "cursor.execute(\"\"\"\n",
    "    INSERT INTO employees (employee_id, first_name, last_name, department, salary, hire_date, performance_rating)\n",
    "VALUES (13, 'Daniel', 'Clark', 'Finance', 64000.00, '2024-05-06', 5);\n",
    "            \"\"\")\n",
    "\n",
    "cursor.execute(\"\"\"\n",
    "    INSERT INTO employees (employee_id, first_name, last_name, department, salary, hire_date, performance_rating)\n",
    "VALUES (14, 'Nancy', 'Lewis', 'HR', 53000.00, '2024-05-07', 2);\n",
    "            \"\"\")\n",
    "\n",
    "cursor.execute(\"\"\"\n",
    "    INSERT INTO employees (employee_id, first_name, last_name, department, salary, hire_date, performance_rating)\n",
    "VALUES (15, 'Paul', 'Walker', 'Sales', 61000.00, '2024-05-08', 3);\n",
    "            \"\"\")\n",
    "\n",
    "cursor.execute(\"\"\"\n",
    "    INSERT INTO employees (employee_id, first_name, last_name, department, salary, hire_date, performance_rating)\n",
    "VALUES (16, 'Karen', 'Hall', 'Marketing', 60000.00, '2024-05-09', 4);\n",
    "            \"\"\")\n",
    "\n",
    "cursor.execute(\"\"\"\n",
    "    INSERT INTO employees (employee_id, first_name, last_name, department, salary, hire_date, performance_rating)\n",
    "VALUES (17, 'Steven', 'Allen', 'IT', 69000.00, '2024-05-10', 5);\n",
    "            \"\"\")\n",
    "\n",
    "cursor.execute(\"\"\"\n",
    "    INSERT INTO employees (employee_id, first_name, last_name, department, salary, hire_date, performance_rating)\n",
    "VALUES (18, 'Elizabeth', 'Young', 'Finance', 62000.00, '2024-05-11', 2);\n",
    "            \"\"\")\n",
    "\n",
    "cursor.execute(\"\"\"\n",
    "    INSERT INTO employees (employee_id, first_name, last_name, department, salary, hire_date, performance_rating)\n",
    "VALUES (19, 'George', 'King', 'Operations', 57000.00, '2024-05-12', 3);\n",
    "            \"\"\")\n",
    "\n",
    "cursor.execute(\"\"\"\n",
    "    INSERT INTO employees (employee_id, first_name, last_name, department, salary, hire_date, performance_rating)\n",
    "VALUES (20, 'Mary', 'Wright', 'HR', 54000.00, '2024-05-13', 4);\n",
    "            \"\"\")\n",
    "\n",
    "\n",
    "cursor.execute(\"\"\"\n",
    "    INSERT INTO employees (employee_id, first_name, last_name, department, salary, hire_date, performance_rating)\n",
    "VALUES (21, 'Brian', 'Lopez', 'Sales', 62000.00, '2024-05-14', 5);\n",
    "            \"\"\")\n",
    "\n",
    "cursor.execute(\"\"\"\n",
    "    INSERT INTO employees (employee_id, first_name, last_name, department, salary, hire_date, performance_rating)\n",
    "VALUES (22, 'Megan', 'Hill', 'IT', 71000.00, '2024-05-15', 2);\n",
    "            \"\"\")\n",
    "\n",
    "cursor.execute(\"\"\"\n",
    "    INSERT INTO employees (employee_id, first_name, last_name, department, salary, hire_date, performance_rating)\n",
    "VALUES (23, 'Anthony', 'Scott', 'Finance', 66000.00, '2024-05-16', 3);\n",
    "            \"\"\")\n",
    "\n",
    "cursor.execute(\"\"\"\n",
    "    INSERT INTO employees (employee_id, first_name, last_name, department, salary, hire_date, performance_rating)\n",
    "VALUES (24, 'Deborah', 'Green', 'Marketing', 63000.00, '2024-05-17', 4);\n",
    "            \"\"\")\n",
    "\n",
    "\n",
    "cursor.execute(\"\"\"\n",
    "    INSERT INTO employees (employee_id, first_name, last_name, department, salary, hire_date, performance_rating)\n",
    "VALUES (25, 'Larry', 'Adams', 'Operations', 58000.00, '2024-05-18', 5);\n",
    "            \"\"\")\n",
    "\n",
    "\n",
    "cursor.execute(\"\"\"\n",
    "    INSERT INTO employees (employee_id, first_name, last_name, department, salary, hire_date, performance_rating)\n",
    "VALUES (26, 'Sarah', 'Nelson', 'HR', 55000.00, '2024-05-19', 2);\n",
    "            \"\"\")\n",
    "\n",
    "cursor.execute(\"\"\"\n",
    "    INSERT INTO employees (employee_id, first_name, last_name, department, salary, hire_date, performance_rating)\n",
    "VALUES (27, 'Kenneth', 'Carter', 'Sales', 64000.00, '2024-05-20', 3);\n",
    "            \"\"\")\n",
    "\n",
    "cursor.execute(\"\"\"\n",
    "    INSERT INTO employees (employee_id, first_name, last_name, department, salary, hire_date, performance_rating)\n",
    "VALUES (28, 'Betty', 'Mitchell', 'IT', 72000.00, '2024-05-21', 4);\n",
    "            \"\"\")\n",
    "\n",
    "\n",
    "cursor.execute(\"\"\"\n",
    "    INSERT INTO employees (employee_id, first_name, last_name, department, salary, hire_date, performance_rating)\n",
    "VALUES (29, 'Ronald', 'Perez', 'Finance', 67000.00, '2024-05-22', 5);\n",
    "            \"\"\")\n",
    "\n",
    "\n",
    "cursor.execute(\"\"\"\n",
    "    INSERT INTO employees (employee_id, first_name, last_name, department, salary, hire_date, performance_rating)\n",
    "VALUES (30, 'Laura', 'Roberts', 'Marketing', 65000.00, '2024-05-23', 2);\n",
    "            \"\"\")\n",
    "\n",
    "# Commit changes\n",
    "conn.commit()"
   ]
  },
  {
   "cell_type": "markdown",
   "metadata": {},
   "source": [
    "## **Selecting Data**\n",
    "\n",
    "You can retrieve data from the employees table using the `SELECT` statement. This will return all rows and columns from the table.\n",
    "\n",
    "Syntax:\n",
    "```\n",
    "cursor.execute(\"SELECT * FROM table-name;\")\n",
    "```\n",
    "\n",
    "Example:"
   ]
  },
  {
   "cell_type": "code",
   "execution_count": 25,
   "metadata": {},
   "outputs": [
    {
     "data": {
      "text/plain": [
       "[(1, 'John', 'Doe', 'Sales', 50000, '1997-01-07', 2, None),\n",
       " (2, 'Jane', 'Smith', 'Marketing', 55000, '2024-04-26', 3, None),\n",
       " (3, 'Michael', 'Johnson', 'Sales', 60000, '2024-04-27', 5, None),\n",
       " (4, 'Emily', 'Davis', 'Operations', 62000, '2024-04-20', 2, None),\n",
       " (5, 'David', 'Wilson', 'Operations', 58000, '2024-04-28', 1, None),\n",
       " (6, 'Linda', 'Martinez', 'IT', 70000, '2024-04-29', 4, None),\n",
       " (7, 'Robert', 'Anderson', 'Finance', 65000, '2024-04-30', 3, None),\n",
       " (8, 'Patricia', 'Taylor', 'HR', 52000, '2024-05-01', 5, None),\n",
       " (9, 'Christopher', 'Thomas', 'Marketing', 59000, '2024-05-02', 2, None),\n",
       " (10, 'Jennifer', 'Lee', 'Sales', 63000, '2024-05-03', 3, None),\n",
       " (11, 'James', 'White', 'Operations', 56000, '2024-05-04', 4, None),\n",
       " (12, 'Barbara', 'Harris', 'IT', 68000, '2024-05-05', 1, None),\n",
       " (13, 'Daniel', 'Clark', 'Finance', 64000, '2024-05-06', 5, None),\n",
       " (14, 'Nancy', 'Lewis', 'HR', 53000, '2024-05-07', 2, None),\n",
       " (15, 'Paul', 'Walker', 'Sales', 61000, '2024-05-08', 3, None),\n",
       " (16, 'Karen', 'Hall', 'Marketing', 60000, '2024-05-09', 4, None),\n",
       " (17, 'Steven', 'Allen', 'IT', 69000, '2024-05-10', 5, None),\n",
       " (18, 'Elizabeth', 'Young', 'Finance', 62000, '2024-05-11', 2, None),\n",
       " (19, 'George', 'King', 'Operations', 57000, '2024-05-12', 3, None),\n",
       " (20, 'Mary', 'Wright', 'HR', 54000, '2024-05-13', 4, None),\n",
       " (21, 'Brian', 'Lopez', 'Sales', 62000, '2024-05-14', 5, None),\n",
       " (22, 'Megan', 'Hill', 'IT', 71000, '2024-05-15', 2, None),\n",
       " (23, 'Anthony', 'Scott', 'Finance', 66000, '2024-05-16', 3, None),\n",
       " (24, 'Deborah', 'Green', 'Marketing', 63000, '2024-05-17', 4, None),\n",
       " (25, 'Larry', 'Adams', 'Operations', 58000, '2024-05-18', 5, None),\n",
       " (26, 'Sarah', 'Nelson', 'HR', 55000, '2024-05-19', 2, None),\n",
       " (27, 'Kenneth', 'Carter', 'Sales', 64000, '2024-05-20', 3, None),\n",
       " (28, 'Betty', 'Mitchell', 'IT', 72000, '2024-05-21', 4, None),\n",
       " (29, 'Ronald', 'Perez', 'Finance', 67000, '2024-05-22', 5, None),\n",
       " (30, 'Laura', 'Roberts', 'Marketing', 65000, '2024-05-23', 2, None)]"
      ]
     },
     "execution_count": 25,
     "metadata": {},
     "output_type": "execute_result"
    }
   ],
   "source": [
    "cursor.execute(\"SELECT * FROM employees;\")\n",
    "cursor.fetchall()"
   ]
  },
  {
   "cell_type": "markdown",
   "metadata": {},
   "source": [
    "## **Selecting Specific Columns**\n",
    "To retrieve data from specific columns of a table, you can use the `SELECT` statement with the column names specified.\n",
    "\n",
    "Syntax:\n",
    "```\n",
    "cursor.execute(\"SELECT column1, column2, ..., columnN FROM table-name;\")\n",
    "```\n",
    "\n",
    "Example:"
   ]
  },
  {
   "cell_type": "code",
   "execution_count": 26,
   "metadata": {},
   "outputs": [
    {
     "data": {
      "text/plain": [
       "[('John', 'Doe', 'Sales', 50000),\n",
       " ('Jane', 'Smith', 'Marketing', 55000),\n",
       " ('Michael', 'Johnson', 'Sales', 60000),\n",
       " ('Emily', 'Davis', 'Operations', 62000),\n",
       " ('David', 'Wilson', 'Operations', 58000),\n",
       " ('Linda', 'Martinez', 'IT', 70000),\n",
       " ('Robert', 'Anderson', 'Finance', 65000),\n",
       " ('Patricia', 'Taylor', 'HR', 52000),\n",
       " ('Christopher', 'Thomas', 'Marketing', 59000),\n",
       " ('Jennifer', 'Lee', 'Sales', 63000),\n",
       " ('James', 'White', 'Operations', 56000),\n",
       " ('Barbara', 'Harris', 'IT', 68000),\n",
       " ('Daniel', 'Clark', 'Finance', 64000),\n",
       " ('Nancy', 'Lewis', 'HR', 53000),\n",
       " ('Paul', 'Walker', 'Sales', 61000),\n",
       " ('Karen', 'Hall', 'Marketing', 60000),\n",
       " ('Steven', 'Allen', 'IT', 69000),\n",
       " ('Elizabeth', 'Young', 'Finance', 62000),\n",
       " ('George', 'King', 'Operations', 57000),\n",
       " ('Mary', 'Wright', 'HR', 54000),\n",
       " ('Brian', 'Lopez', 'Sales', 62000),\n",
       " ('Megan', 'Hill', 'IT', 71000),\n",
       " ('Anthony', 'Scott', 'Finance', 66000),\n",
       " ('Deborah', 'Green', 'Marketing', 63000),\n",
       " ('Larry', 'Adams', 'Operations', 58000),\n",
       " ('Sarah', 'Nelson', 'HR', 55000),\n",
       " ('Kenneth', 'Carter', 'Sales', 64000),\n",
       " ('Betty', 'Mitchell', 'IT', 72000),\n",
       " ('Ronald', 'Perez', 'Finance', 67000),\n",
       " ('Laura', 'Roberts', 'Marketing', 65000)]"
      ]
     },
     "execution_count": 26,
     "metadata": {},
     "output_type": "execute_result"
    }
   ],
   "source": [
    "cursor.execute(\"SELECT first_name, last_name, department, salary FROM employees;\")\n",
    "cursor.fetchall()"
   ]
  },
  {
   "cell_type": "markdown",
   "metadata": {},
   "source": [
    "## **Updating Data**\n",
    "\n",
    "If you want to update existing data, you can use the `UPDATE` statement.\n",
    "\n",
    "Syntax:\n",
    "```\n",
    "cursor.execute(\"\"\"\n",
    "UPDATE table-name \n",
    "SET column-name = new-data \n",
    "WHERE primary-key = value;\n",
    "            \"\"\")\n",
    "```\n",
    "\n",
    "Example:"
   ]
  },
  {
   "cell_type": "code",
   "execution_count": 28,
   "metadata": {},
   "outputs": [],
   "source": [
    "cursor.execute(\"\"\"\n",
    "    UPDATE employees SET salary = 65000.00\n",
    "    WHERE employee_id = 1;\n",
    "               \"\"\")\n",
    "\n",
    "conn.commit()"
   ]
  },
  {
   "cell_type": "code",
   "execution_count": 29,
   "metadata": {},
   "outputs": [
    {
     "data": {
      "text/plain": [
       "[(1, 'John', 'Doe', 'Sales', 65000, '1997-01-07', 2, None),\n",
       " (2, 'Jane', 'Smith', 'Marketing', 55000, '2024-04-26', 3, None),\n",
       " (3, 'Michael', 'Johnson', 'Sales', 60000, '2024-04-27', 5, None),\n",
       " (4, 'Emily', 'Davis', 'Operations', 62000, '2024-04-20', 2, None),\n",
       " (5, 'David', 'Wilson', 'Operations', 58000, '2024-04-28', 1, None),\n",
       " (6, 'Linda', 'Martinez', 'IT', 70000, '2024-04-29', 4, None),\n",
       " (7, 'Robert', 'Anderson', 'Finance', 65000, '2024-04-30', 3, None),\n",
       " (8, 'Patricia', 'Taylor', 'HR', 52000, '2024-05-01', 5, None),\n",
       " (9, 'Christopher', 'Thomas', 'Marketing', 59000, '2024-05-02', 2, None),\n",
       " (10, 'Jennifer', 'Lee', 'Sales', 63000, '2024-05-03', 3, None),\n",
       " (11, 'James', 'White', 'Operations', 56000, '2024-05-04', 4, None),\n",
       " (12, 'Barbara', 'Harris', 'IT', 68000, '2024-05-05', 1, None),\n",
       " (13, 'Daniel', 'Clark', 'Finance', 64000, '2024-05-06', 5, None),\n",
       " (14, 'Nancy', 'Lewis', 'HR', 53000, '2024-05-07', 2, None),\n",
       " (15, 'Paul', 'Walker', 'Sales', 61000, '2024-05-08', 3, None),\n",
       " (16, 'Karen', 'Hall', 'Marketing', 60000, '2024-05-09', 4, None),\n",
       " (17, 'Steven', 'Allen', 'IT', 69000, '2024-05-10', 5, None),\n",
       " (18, 'Elizabeth', 'Young', 'Finance', 62000, '2024-05-11', 2, None),\n",
       " (19, 'George', 'King', 'Operations', 57000, '2024-05-12', 3, None),\n",
       " (20, 'Mary', 'Wright', 'HR', 54000, '2024-05-13', 4, None),\n",
       " (21, 'Brian', 'Lopez', 'Sales', 62000, '2024-05-14', 5, None),\n",
       " (22, 'Megan', 'Hill', 'IT', 71000, '2024-05-15', 2, None),\n",
       " (23, 'Anthony', 'Scott', 'Finance', 66000, '2024-05-16', 3, None),\n",
       " (24, 'Deborah', 'Green', 'Marketing', 63000, '2024-05-17', 4, None),\n",
       " (25, 'Larry', 'Adams', 'Operations', 58000, '2024-05-18', 5, None),\n",
       " (26, 'Sarah', 'Nelson', 'HR', 55000, '2024-05-19', 2, None),\n",
       " (27, 'Kenneth', 'Carter', 'Sales', 64000, '2024-05-20', 3, None),\n",
       " (28, 'Betty', 'Mitchell', 'IT', 72000, '2024-05-21', 4, None),\n",
       " (29, 'Ronald', 'Perez', 'Finance', 67000, '2024-05-22', 5, None),\n",
       " (30, 'Laura', 'Roberts', 'Marketing', 65000, '2024-05-23', 2, None)]"
      ]
     },
     "execution_count": 29,
     "metadata": {},
     "output_type": "execute_result"
    }
   ],
   "source": [
    "cursor.execute(\"SELECT * FROM employees;\")\n",
    "cursor.fetchall()"
   ]
  },
  {
   "cell_type": "markdown",
   "metadata": {},
   "source": [
    "## **Deleting Data**\n",
    "\n",
    "You can delete data from the table using the `DELETE` statement. \n",
    "\n",
    "Syntax:\n",
    "```\n",
    "cursor.execute(\"DELETE FROM table-name WHERE primary-key = value;\")\n",
    "```\n",
    "\n",
    "Example:"
   ]
  },
  {
   "cell_type": "code",
   "execution_count": 31,
   "metadata": {},
   "outputs": [],
   "source": [
    "cursor.execute(\"DELETE FROM employees WHERE employee_id = 1;\")\n",
    "conn.commit()"
   ]
  },
  {
   "cell_type": "code",
   "execution_count": 32,
   "metadata": {},
   "outputs": [
    {
     "data": {
      "text/plain": [
       "[(2, 'Jane', 'Smith', 'Marketing', 55000, '2024-04-26', 3, None),\n",
       " (3, 'Michael', 'Johnson', 'Sales', 60000, '2024-04-27', 5, None),\n",
       " (4, 'Emily', 'Davis', 'Operations', 62000, '2024-04-20', 2, None),\n",
       " (5, 'David', 'Wilson', 'Operations', 58000, '2024-04-28', 1, None),\n",
       " (6, 'Linda', 'Martinez', 'IT', 70000, '2024-04-29', 4, None),\n",
       " (7, 'Robert', 'Anderson', 'Finance', 65000, '2024-04-30', 3, None),\n",
       " (8, 'Patricia', 'Taylor', 'HR', 52000, '2024-05-01', 5, None),\n",
       " (9, 'Christopher', 'Thomas', 'Marketing', 59000, '2024-05-02', 2, None),\n",
       " (10, 'Jennifer', 'Lee', 'Sales', 63000, '2024-05-03', 3, None),\n",
       " (11, 'James', 'White', 'Operations', 56000, '2024-05-04', 4, None),\n",
       " (12, 'Barbara', 'Harris', 'IT', 68000, '2024-05-05', 1, None),\n",
       " (13, 'Daniel', 'Clark', 'Finance', 64000, '2024-05-06', 5, None),\n",
       " (14, 'Nancy', 'Lewis', 'HR', 53000, '2024-05-07', 2, None),\n",
       " (15, 'Paul', 'Walker', 'Sales', 61000, '2024-05-08', 3, None),\n",
       " (16, 'Karen', 'Hall', 'Marketing', 60000, '2024-05-09', 4, None),\n",
       " (17, 'Steven', 'Allen', 'IT', 69000, '2024-05-10', 5, None),\n",
       " (18, 'Elizabeth', 'Young', 'Finance', 62000, '2024-05-11', 2, None),\n",
       " (19, 'George', 'King', 'Operations', 57000, '2024-05-12', 3, None),\n",
       " (20, 'Mary', 'Wright', 'HR', 54000, '2024-05-13', 4, None),\n",
       " (21, 'Brian', 'Lopez', 'Sales', 62000, '2024-05-14', 5, None),\n",
       " (22, 'Megan', 'Hill', 'IT', 71000, '2024-05-15', 2, None),\n",
       " (23, 'Anthony', 'Scott', 'Finance', 66000, '2024-05-16', 3, None),\n",
       " (24, 'Deborah', 'Green', 'Marketing', 63000, '2024-05-17', 4, None),\n",
       " (25, 'Larry', 'Adams', 'Operations', 58000, '2024-05-18', 5, None),\n",
       " (26, 'Sarah', 'Nelson', 'HR', 55000, '2024-05-19', 2, None),\n",
       " (27, 'Kenneth', 'Carter', 'Sales', 64000, '2024-05-20', 3, None),\n",
       " (28, 'Betty', 'Mitchell', 'IT', 72000, '2024-05-21', 4, None),\n",
       " (29, 'Ronald', 'Perez', 'Finance', 67000, '2024-05-22', 5, None),\n",
       " (30, 'Laura', 'Roberts', 'Marketing', 65000, '2024-05-23', 2, None)]"
      ]
     },
     "execution_count": 32,
     "metadata": {},
     "output_type": "execute_result"
    }
   ],
   "source": [
    "cursor.execute(\"SELECT * FROM employees;\")\n",
    "cursor.fetchall()"
   ]
  }
 ],
 "metadata": {
  "kernelspec": {
   "display_name": "Python 3",
   "language": "python",
   "name": "python3"
  },
  "language_info": {
   "codemirror_mode": {
    "name": "ipython",
    "version": 3
   },
   "file_extension": ".py",
   "mimetype": "text/x-python",
   "name": "python",
   "nbconvert_exporter": "python",
   "pygments_lexer": "ipython3",
   "version": "3.13.0"
  }
 },
 "nbformat": 4,
 "nbformat_minor": 2
}
