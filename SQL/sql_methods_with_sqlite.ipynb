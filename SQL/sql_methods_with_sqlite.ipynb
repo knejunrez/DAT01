{
 "cells": [
  {
   "cell_type": "markdown",
   "metadata": {},
   "source": [
    "# **SQL METHODS**"
   ]
  },
  {
   "cell_type": "markdown",
   "metadata": {},
   "source": [
    "In SQL, methods refer to functions or procedures that perform specific tasks within your queries. They are like pre-defined tools that you can use to manipulate, analyze, or interact with your data in various ways."
   ]
  },
  {
   "cell_type": "markdown",
   "metadata": {},
   "source": [
    "#### **Import SQLite3**"
   ]
  },
  {
   "cell_type": "code",
   "execution_count": 2,
   "metadata": {},
   "outputs": [],
   "source": [
    "import sqlite3\n"
   ]
  },
  {
   "cell_type": "markdown",
   "metadata": {},
   "source": [
    "#### **Connect to the SQLite Database**\n",
    "If you want to create the database file in the current directory (where your Jupyter Notebook is located) and specify the name of the database file, you can do it like this:"
   ]
  },
  {
   "cell_type": "code",
   "execution_count": 3,
   "metadata": {},
   "outputs": [],
   "source": [
    "conn = sqlite3.connect('abc_corp.db')\n",
    "cursor = conn.cursor()"
   ]
  },
  {
   "cell_type": "markdown",
   "metadata": {},
   "source": [
    "### **SELECT**"
   ]
  },
  {
   "cell_type": "markdown",
   "metadata": {},
   "source": [
    "The SELECT statement in SQL retrieves data from one or more tables, allowing users to specify columns to fetch and apply filters, sorting, and aggregations to manipulate the data returned."
   ]
  },
  {
   "cell_type": "code",
   "execution_count": 4,
   "metadata": {},
   "outputs": [
    {
     "data": {
      "text/plain": [
       "[(2, 'Jane', 'Smith', 'Marketing', 55000, '2024-04-26', 3, None),\n",
       " (3, 'Michael', 'Johnson', 'Sales', 60000, '2024-04-27', 5, None),\n",
       " (4, 'Emily', 'Davis', 'Operations', 62000, '2024-04-20', 2, None),\n",
       " (5, 'David', 'Wilson', 'Operations', 58000, '2024-04-28', 1, None),\n",
       " (6, 'Linda', 'Martinez', 'IT', 70000, '2024-04-29', 4, None),\n",
       " (7, 'Robert', 'Anderson', 'Finance', 65000, '2024-04-30', 3, None),\n",
       " (8, 'Patricia', 'Taylor', 'HR', 52000, '2024-05-01', 5, None),\n",
       " (9, 'Christopher', 'Thomas', 'Marketing', 59000, '2024-05-02', 2, None),\n",
       " (10, 'Jennifer', 'Lee', 'Sales', 63000, '2024-05-03', 3, None),\n",
       " (11, 'James', 'White', 'Operations', 56000, '2024-05-04', 4, None),\n",
       " (12, 'Barbara', 'Harris', 'IT', 68000, '2024-05-05', 1, None),\n",
       " (13, 'Daniel', 'Clark', 'Finance', 64000, '2024-05-06', 5, None),\n",
       " (14, 'Nancy', 'Lewis', 'HR', 53000, '2024-05-07', 2, None),\n",
       " (15, 'Paul', 'Walker', 'Sales', 61000, '2024-05-08', 3, None),\n",
       " (16, 'Karen', 'Hall', 'Marketing', 60000, '2024-05-09', 4, None),\n",
       " (17, 'Steven', 'Allen', 'IT', 69000, '2024-05-10', 5, None),\n",
       " (18, 'Elizabeth', 'Young', 'Finance', 62000, '2024-05-11', 2, None),\n",
       " (19, 'George', 'King', 'Operations', 57000, '2024-05-12', 3, None),\n",
       " (20, 'Mary', 'Wright', 'HR', 54000, '2024-05-13', 4, None),\n",
       " (21, 'Brian', 'Lopez', 'Sales', 62000, '2024-05-14', 5, None),\n",
       " (22, 'Megan', 'Hill', 'IT', 71000, '2024-05-15', 2, None),\n",
       " (23, 'Anthony', 'Scott', 'Finance', 66000, '2024-05-16', 3, None),\n",
       " (24, 'Deborah', 'Green', 'Marketing', 63000, '2024-05-17', 4, None),\n",
       " (25, 'Larry', 'Adams', 'Operations', 58000, '2024-05-18', 5, None),\n",
       " (26, 'Sarah', 'Nelson', 'HR', 55000, '2024-05-19', 2, None),\n",
       " (27, 'Kenneth', 'Carter', 'Sales', 64000, '2024-05-20', 3, None),\n",
       " (28, 'Betty', 'Mitchell', 'IT', 72000, '2024-05-21', 4, None),\n",
       " (29, 'Ronald', 'Perez', 'Finance', 67000, '2024-05-22', 5, None),\n",
       " (30, 'Laura', 'Roberts', 'Marketing', 65000, '2024-05-23', 2, None)]"
      ]
     },
     "execution_count": 4,
     "metadata": {},
     "output_type": "execute_result"
    }
   ],
   "source": [
    "cursor.execute(\"SELECT * FROM employees\")\n",
    "cursor.fetchall()"
   ]
  },
  {
   "cell_type": "markdown",
   "metadata": {},
   "source": [
    "### **DISTINCT**\n",
    "\n",
    "The **DISTINCT** keyword is used to return only distinct (unique) values in the result set of a query. It ensures that duplicate rows are removed from the output."
   ]
  },
  {
   "cell_type": "code",
   "execution_count": 5,
   "metadata": {},
   "outputs": [
    {
     "data": {
      "text/plain": [
       "[('Marketing',), ('Sales',), ('Operations',), ('IT',), ('Finance',), ('HR',)]"
      ]
     },
     "execution_count": 5,
     "metadata": {},
     "output_type": "execute_result"
    }
   ],
   "source": [
    "cursor.execute(\"SELECT DISTINCT department FROM employees\")\n",
    "cursor.fetchall()"
   ]
  },
  {
   "cell_type": "code",
   "execution_count": 6,
   "metadata": {},
   "outputs": [
    {
     "name": "stdout",
     "output_type": "stream",
     "text": [
      "(1,)\n",
      "<class 'tuple'>\n"
     ]
    }
   ],
   "source": [
    "# If you have a tuple that contains one element, add a comma at the end\n",
    "number = (1,)\n",
    "print(number)\n",
    "print(type(number))"
   ]
  },
  {
   "cell_type": "markdown",
   "metadata": {},
   "source": [
    "### **LIMIT**\n",
    "\n",
    "The **LIMIT** clause specifies the maximum number of rows to return in a query result."
   ]
  },
  {
   "cell_type": "code",
   "execution_count": 7,
   "metadata": {},
   "outputs": [
    {
     "data": {
      "text/plain": [
       "[(2, 'Jane', 'Smith', 'Marketing', 55000, '2024-04-26', 3, None),\n",
       " (3, 'Michael', 'Johnson', 'Sales', 60000, '2024-04-27', 5, None),\n",
       " (4, 'Emily', 'Davis', 'Operations', 62000, '2024-04-20', 2, None),\n",
       " (5, 'David', 'Wilson', 'Operations', 58000, '2024-04-28', 1, None),\n",
       " (6, 'Linda', 'Martinez', 'IT', 70000, '2024-04-29', 4, None)]"
      ]
     },
     "execution_count": 7,
     "metadata": {},
     "output_type": "execute_result"
    }
   ],
   "source": [
    "cursor.execute(\"\"\"\n",
    "SELECT * FROM employees\n",
    "               LIMIT 5\n",
    "\"\"\")\n",
    "cursor.fetchall()"
   ]
  },
  {
   "cell_type": "code",
   "execution_count": 8,
   "metadata": {},
   "outputs": [
    {
     "data": {
      "text/plain": [
       "[(5, 'David', 'Wilson', 'Operations', 58000, '2024-04-28', 1, None),\n",
       " (6, 'Linda', 'Martinez', 'IT', 70000, '2024-04-29', 4, None),\n",
       " (7, 'Robert', 'Anderson', 'Finance', 65000, '2024-04-30', 3, None),\n",
       " (8, 'Patricia', 'Taylor', 'HR', 52000, '2024-05-01', 5, None),\n",
       " (9, 'Christopher', 'Thomas', 'Marketing', 59000, '2024-05-02', 2, None)]"
      ]
     },
     "execution_count": 8,
     "metadata": {},
     "output_type": "execute_result"
    }
   ],
   "source": [
    "# LIMIT starting offset, how many records to display\n",
    "cursor.execute(\"\"\"\n",
    "SELECT * FROM employees\n",
    "               LIMIT 3, 5\n",
    "\"\"\")\n",
    "cursor.fetchall()"
   ]
  },
  {
   "cell_type": "markdown",
   "metadata": {},
   "source": [
    "### **COUNT**\n",
    "\n",
    "The **COUNT** function is used to count the number of rows in a table or the number of rows matching a specific condition."
   ]
  },
  {
   "cell_type": "code",
   "execution_count": 20,
   "metadata": {},
   "outputs": [
    {
     "data": {
      "text/plain": [
       "[(29,)]"
      ]
     },
     "execution_count": 20,
     "metadata": {},
     "output_type": "execute_result"
    }
   ],
   "source": [
    "cursor.execute(\"SELECT COUNT(*) FROM employees\")\n",
    "cursor.fetchall()"
   ]
  },
  {
   "cell_type": "code",
   "execution_count": 10,
   "metadata": {},
   "outputs": [
    {
     "data": {
      "text/plain": [
       "[(6,)]"
      ]
     },
     "execution_count": 10,
     "metadata": {},
     "output_type": "execute_result"
    }
   ],
   "source": [
    "cursor.execute(\"SELECT COUNT(DISTINCT department) FROM employees\")\n",
    "cursor.fetchall()"
   ]
  },
  {
   "cell_type": "markdown",
   "metadata": {},
   "source": [
    "### **WHERE**\n",
    "\n",
    "The **WHERE** clause is used to filter data retrieved from a database based on specific conditions."
   ]
  },
  {
   "cell_type": "markdown",
   "metadata": {},
   "source": [
    "### **Comparison Operators:**\n",
    "#### `=`: Equal to"
   ]
  },
  {
   "cell_type": "code",
   "execution_count": 11,
   "metadata": {},
   "outputs": [
    {
     "data": {
      "text/plain": [
       "[(6, 'Linda', 'Martinez', 'IT', 70000, '2024-04-29', 4, None),\n",
       " (12, 'Barbara', 'Harris', 'IT', 68000, '2024-05-05', 1, None),\n",
       " (17, 'Steven', 'Allen', 'IT', 69000, '2024-05-10', 5, None),\n",
       " (22, 'Megan', 'Hill', 'IT', 71000, '2024-05-15', 2, None),\n",
       " (28, 'Betty', 'Mitchell', 'IT', 72000, '2024-05-21', 4, None)]"
      ]
     },
     "execution_count": 11,
     "metadata": {},
     "output_type": "execute_result"
    }
   ],
   "source": [
    "cursor.execute(\"\"\"\n",
    "SELECT * FROM employees WHERE department = 'IT';\n",
    "\"\"\")\n",
    "cursor.fetchall()"
   ]
  },
  {
   "cell_type": "markdown",
   "metadata": {},
   "source": [
    "#### `!=` : Not equal to"
   ]
  },
  {
   "cell_type": "code",
   "execution_count": 12,
   "metadata": {},
   "outputs": [
    {
     "data": {
      "text/plain": [
       "[(2, 'Jane', 'Smith', 'Marketing', 55000, '2024-04-26', 3, None),\n",
       " (3, 'Michael', 'Johnson', 'Sales', 60000, '2024-04-27', 5, None),\n",
       " (4, 'Emily', 'Davis', 'Operations', 62000, '2024-04-20', 2, None),\n",
       " (5, 'David', 'Wilson', 'Operations', 58000, '2024-04-28', 1, None),\n",
       " (7, 'Robert', 'Anderson', 'Finance', 65000, '2024-04-30', 3, None),\n",
       " (8, 'Patricia', 'Taylor', 'HR', 52000, '2024-05-01', 5, None),\n",
       " (9, 'Christopher', 'Thomas', 'Marketing', 59000, '2024-05-02', 2, None),\n",
       " (10, 'Jennifer', 'Lee', 'Sales', 63000, '2024-05-03', 3, None),\n",
       " (11, 'James', 'White', 'Operations', 56000, '2024-05-04', 4, None),\n",
       " (13, 'Daniel', 'Clark', 'Finance', 64000, '2024-05-06', 5, None),\n",
       " (14, 'Nancy', 'Lewis', 'HR', 53000, '2024-05-07', 2, None),\n",
       " (15, 'Paul', 'Walker', 'Sales', 61000, '2024-05-08', 3, None),\n",
       " (16, 'Karen', 'Hall', 'Marketing', 60000, '2024-05-09', 4, None),\n",
       " (18, 'Elizabeth', 'Young', 'Finance', 62000, '2024-05-11', 2, None),\n",
       " (19, 'George', 'King', 'Operations', 57000, '2024-05-12', 3, None),\n",
       " (20, 'Mary', 'Wright', 'HR', 54000, '2024-05-13', 4, None),\n",
       " (21, 'Brian', 'Lopez', 'Sales', 62000, '2024-05-14', 5, None),\n",
       " (23, 'Anthony', 'Scott', 'Finance', 66000, '2024-05-16', 3, None),\n",
       " (24, 'Deborah', 'Green', 'Marketing', 63000, '2024-05-17', 4, None),\n",
       " (25, 'Larry', 'Adams', 'Operations', 58000, '2024-05-18', 5, None),\n",
       " (26, 'Sarah', 'Nelson', 'HR', 55000, '2024-05-19', 2, None),\n",
       " (27, 'Kenneth', 'Carter', 'Sales', 64000, '2024-05-20', 3, None),\n",
       " (29, 'Ronald', 'Perez', 'Finance', 67000, '2024-05-22', 5, None),\n",
       " (30, 'Laura', 'Roberts', 'Marketing', 65000, '2024-05-23', 2, None)]"
      ]
     },
     "execution_count": 12,
     "metadata": {},
     "output_type": "execute_result"
    }
   ],
   "source": [
    "cursor.execute(\"\"\"\n",
    "SELECT * FROM employees WHERE department != 'IT';\n",
    "\"\"\")\n",
    "cursor.fetchall()"
   ]
  },
  {
   "cell_type": "markdown",
   "metadata": {},
   "source": [
    "#### `<` : Less than"
   ]
  },
  {
   "cell_type": "code",
   "execution_count": 19,
   "metadata": {},
   "outputs": [
    {
     "data": {
      "text/plain": [
       "[(4, 'Emily', 'Davis', 'Operations', 62000, '2024-04-20', 2, None),\n",
       " (5, 'David', 'Wilson', 'Operations', 58000, '2024-04-28', 1, None),\n",
       " (9, 'Christopher', 'Thomas', 'Marketing', 59000, '2024-05-02', 2, None),\n",
       " (12, 'Barbara', 'Harris', 'IT', 68000, '2024-05-05', 1, None),\n",
       " (14, 'Nancy', 'Lewis', 'HR', 53000, '2024-05-07', 2, None),\n",
       " (18, 'Elizabeth', 'Young', 'Finance', 62000, '2024-05-11', 2, None),\n",
       " (22, 'Megan', 'Hill', 'IT', 71000, '2024-05-15', 2, None),\n",
       " (26, 'Sarah', 'Nelson', 'HR', 55000, '2024-05-19', 2, None),\n",
       " (30, 'Laura', 'Roberts', 'Marketing', 65000, '2024-05-23', 2, None)]"
      ]
     },
     "execution_count": 19,
     "metadata": {},
     "output_type": "execute_result"
    }
   ],
   "source": [
    "cursor.execute(\"\"\"\n",
    "SELECT * FROM employees WHERE performance_rating < 3;\"\"\")\n",
    "cursor.fetchall()"
   ]
  },
  {
   "cell_type": "markdown",
   "metadata": {},
   "source": [
    "#### `>` : Greater than"
   ]
  },
  {
   "cell_type": "code",
   "execution_count": 15,
   "metadata": {},
   "outputs": [
    {
     "data": {
      "text/plain": [
       "[(3, 'Michael', 'Johnson', 'Sales', 60000, '2024-04-27', 5, None),\n",
       " (6, 'Linda', 'Martinez', 'IT', 70000, '2024-04-29', 4, None),\n",
       " (8, 'Patricia', 'Taylor', 'HR', 52000, '2024-05-01', 5, None),\n",
       " (11, 'James', 'White', 'Operations', 56000, '2024-05-04', 4, None),\n",
       " (13, 'Daniel', 'Clark', 'Finance', 64000, '2024-05-06', 5, None),\n",
       " (16, 'Karen', 'Hall', 'Marketing', 60000, '2024-05-09', 4, None),\n",
       " (17, 'Steven', 'Allen', 'IT', 69000, '2024-05-10', 5, None),\n",
       " (20, 'Mary', 'Wright', 'HR', 54000, '2024-05-13', 4, None),\n",
       " (21, 'Brian', 'Lopez', 'Sales', 62000, '2024-05-14', 5, None),\n",
       " (24, 'Deborah', 'Green', 'Marketing', 63000, '2024-05-17', 4, None),\n",
       " (25, 'Larry', 'Adams', 'Operations', 58000, '2024-05-18', 5, None),\n",
       " (28, 'Betty', 'Mitchell', 'IT', 72000, '2024-05-21', 4, None),\n",
       " (29, 'Ronald', 'Perez', 'Finance', 67000, '2024-05-22', 5, None)]"
      ]
     },
     "execution_count": 15,
     "metadata": {},
     "output_type": "execute_result"
    }
   ],
   "source": [
    "cursor.execute(\"\"\"\n",
    "SELECT * FROM employees WHERE performance_rating > 3;\"\"\")\n",
    "cursor.fetchall()"
   ]
  },
  {
   "cell_type": "markdown",
   "metadata": {},
   "source": [
    "#### `<=` : Less than or equal to"
   ]
  },
  {
   "cell_type": "code",
   "execution_count": 17,
   "metadata": {},
   "outputs": [
    {
     "data": {
      "text/plain": [
       "[(2, 'Jane', 'Smith', 'Marketing', 55000, '2024-04-26', 3, None),\n",
       " (5, 'David', 'Wilson', 'Operations', 58000, '2024-04-28', 1, None),\n",
       " (8, 'Patricia', 'Taylor', 'HR', 52000, '2024-05-01', 5, None),\n",
       " (9, 'Christopher', 'Thomas', 'Marketing', 59000, '2024-05-02', 2, None),\n",
       " (11, 'James', 'White', 'Operations', 56000, '2024-05-04', 4, None),\n",
       " (14, 'Nancy', 'Lewis', 'HR', 53000, '2024-05-07', 2, None),\n",
       " (19, 'George', 'King', 'Operations', 57000, '2024-05-12', 3, None),\n",
       " (20, 'Mary', 'Wright', 'HR', 54000, '2024-05-13', 4, None),\n",
       " (25, 'Larry', 'Adams', 'Operations', 58000, '2024-05-18', 5, None),\n",
       " (26, 'Sarah', 'Nelson', 'HR', 55000, '2024-05-19', 2, None)]"
      ]
     },
     "execution_count": 17,
     "metadata": {},
     "output_type": "execute_result"
    }
   ],
   "source": [
    "cursor.execute(\"\"\"\n",
    "SELECT * FROM employees WHERE salary <= 59000;\"\"\")\n",
    "cursor.fetchall()"
   ]
  },
  {
   "cell_type": "markdown",
   "metadata": {},
   "source": [
    "#### `>=` : Greater than or equal to"
   ]
  },
  {
   "cell_type": "code",
   "execution_count": 18,
   "metadata": {},
   "outputs": [
    {
     "data": {
      "text/plain": [
       "[(2, 'Jane', 'Smith', 'Marketing', 55000, '2024-04-26', 3, None),\n",
       " (3, 'Michael', 'Johnson', 'Sales', 60000, '2024-04-27', 5, None),\n",
       " (5, 'David', 'Wilson', 'Operations', 58000, '2024-04-28', 1, None),\n",
       " (8, 'Patricia', 'Taylor', 'HR', 52000, '2024-05-01', 5, None),\n",
       " (9, 'Christopher', 'Thomas', 'Marketing', 59000, '2024-05-02', 2, None),\n",
       " (11, 'James', 'White', 'Operations', 56000, '2024-05-04', 4, None),\n",
       " (14, 'Nancy', 'Lewis', 'HR', 53000, '2024-05-07', 2, None),\n",
       " (16, 'Karen', 'Hall', 'Marketing', 60000, '2024-05-09', 4, None),\n",
       " (19, 'George', 'King', 'Operations', 57000, '2024-05-12', 3, None),\n",
       " (20, 'Mary', 'Wright', 'HR', 54000, '2024-05-13', 4, None),\n",
       " (25, 'Larry', 'Adams', 'Operations', 58000, '2024-05-18', 5, None),\n",
       " (26, 'Sarah', 'Nelson', 'HR', 55000, '2024-05-19', 2, None)]"
      ]
     },
     "execution_count": 18,
     "metadata": {},
     "output_type": "execute_result"
    }
   ],
   "source": [
    "cursor.execute(\"\"\"\n",
    "SELECT * FROM employees WHERE salary <= 60000;\"\"\")\n",
    "cursor.fetchall()"
   ]
  },
  {
   "cell_type": "markdown",
   "metadata": {},
   "source": [
    "### **Logical Operators:**\n",
    "#### `AND`: Used to combine multiple conditions where both must be true."
   ]
  },
  {
   "cell_type": "code",
   "execution_count": 22,
   "metadata": {},
   "outputs": [
    {
     "data": {
      "text/plain": [
       "[(3, 'Michael', 'Johnson', 'Sales', 60000, '2024-04-27', 5, None),\n",
       " (10, 'Jennifer', 'Lee', 'Sales', 63000, '2024-05-03', 3, None),\n",
       " (15, 'Paul', 'Walker', 'Sales', 61000, '2024-05-08', 3, None),\n",
       " (21, 'Brian', 'Lopez', 'Sales', 62000, '2024-05-14', 5, None),\n",
       " (27, 'Kenneth', 'Carter', 'Sales', 64000, '2024-05-20', 3, None)]"
      ]
     },
     "execution_count": 22,
     "metadata": {},
     "output_type": "execute_result"
    }
   ],
   "source": [
    "cursor.execute(\"SELECT * FROM employees WHERE department = 'Sales'\"\"\")\n",
    "cursor.fetchall()"
   ]
  },
  {
   "cell_type": "code",
   "execution_count": 23,
   "metadata": {},
   "outputs": [
    {
     "data": {
      "text/plain": [
       "[(3, 'Michael', 'Johnson', 'Sales', 60000, '2024-04-27', 5, None),\n",
       " (10, 'Jennifer', 'Lee', 'Sales', 63000, '2024-05-03', 3, None),\n",
       " (15, 'Paul', 'Walker', 'Sales', 61000, '2024-05-08', 3, None),\n",
       " (21, 'Brian', 'Lopez', 'Sales', 62000, '2024-05-14', 5, None),\n",
       " (27, 'Kenneth', 'Carter', 'Sales', 64000, '2024-05-20', 3, None)]"
      ]
     },
     "execution_count": 23,
     "metadata": {},
     "output_type": "execute_result"
    }
   ],
   "source": [
    "cursor.execute(\"\"\"\n",
    "SELECT * FROM employees WHERE department = 'Sales' AND performance_rating >= 3\"\"\")\n",
    "cursor.fetchall()"
   ]
  },
  {
   "cell_type": "code",
   "execution_count": 24,
   "metadata": {},
   "outputs": [
    {
     "data": {
      "text/plain": [
       "[('Jane', 'Smith'),\n",
       " ('Michael', 'Johnson'),\n",
       " ('Emily', 'Davis'),\n",
       " ('David', 'Wilson'),\n",
       " ('Linda', 'Martinez'),\n",
       " ('Robert', 'Anderson'),\n",
       " ('Patricia', 'Taylor'),\n",
       " ('Christopher', 'Thomas'),\n",
       " ('Jennifer', 'Lee'),\n",
       " ('James', 'White'),\n",
       " ('Barbara', 'Harris'),\n",
       " ('Daniel', 'Clark'),\n",
       " ('Nancy', 'Lewis'),\n",
       " ('Paul', 'Walker'),\n",
       " ('Karen', 'Hall'),\n",
       " ('Steven', 'Allen'),\n",
       " ('Elizabeth', 'Young'),\n",
       " ('George', 'King'),\n",
       " ('Mary', 'Wright'),\n",
       " ('Brian', 'Lopez'),\n",
       " ('Megan', 'Hill'),\n",
       " ('Anthony', 'Scott'),\n",
       " ('Deborah', 'Green'),\n",
       " ('Larry', 'Adams'),\n",
       " ('Sarah', 'Nelson'),\n",
       " ('Kenneth', 'Carter'),\n",
       " ('Betty', 'Mitchell'),\n",
       " ('Ronald', 'Perez'),\n",
       " ('Laura', 'Roberts')]"
      ]
     },
     "execution_count": 24,
     "metadata": {},
     "output_type": "execute_result"
    }
   ],
   "source": [
    "cursor.execute(\"SELECT first_name, last_name FROM employees\")\n",
    "cursor.fetchall()"
   ]
  },
  {
   "cell_type": "markdown",
   "metadata": {},
   "source": [
    "#### `OR`: Used to combine multiple conditions where at least one must be true."
   ]
  },
  {
   "cell_type": "code",
   "execution_count": 25,
   "metadata": {},
   "outputs": [
    {
     "data": {
      "text/plain": [
       "[(2, 'Jane', 'Smith', 'Marketing', 55000, '2024-04-26', 3, None),\n",
       " (4, 'Emily', 'Davis', 'Operations', 62000, '2024-04-20', 2, None),\n",
       " (5, 'David', 'Wilson', 'Operations', 58000, '2024-04-28', 1, None),\n",
       " (9, 'Christopher', 'Thomas', 'Marketing', 59000, '2024-05-02', 2, None),\n",
       " (11, 'James', 'White', 'Operations', 56000, '2024-05-04', 4, None),\n",
       " (16, 'Karen', 'Hall', 'Marketing', 60000, '2024-05-09', 4, None),\n",
       " (19, 'George', 'King', 'Operations', 57000, '2024-05-12', 3, None),\n",
       " (24, 'Deborah', 'Green', 'Marketing', 63000, '2024-05-17', 4, None),\n",
       " (25, 'Larry', 'Adams', 'Operations', 58000, '2024-05-18', 5, None),\n",
       " (30, 'Laura', 'Roberts', 'Marketing', 65000, '2024-05-23', 2, None)]"
      ]
     },
     "execution_count": 25,
     "metadata": {},
     "output_type": "execute_result"
    }
   ],
   "source": [
    "cursor.execute(\"SELECT * FROM employees WHERE department = 'Operations' OR department = 'Marketing'\")\n",
    "cursor.fetchall()"
   ]
  },
  {
   "cell_type": "code",
   "execution_count": 26,
   "metadata": {},
   "outputs": [
    {
     "data": {
      "text/plain": [
       "[(10,)]"
      ]
     },
     "execution_count": 26,
     "metadata": {},
     "output_type": "execute_result"
    }
   ],
   "source": [
    "cursor.execute(\"SELECT COUNT(*) FROM employees WHERE department = 'Operations' OR department = 'Marketing'\")\n",
    "cursor.fetchall()"
   ]
  },
  {
   "cell_type": "markdown",
   "metadata": {},
   "source": [
    "#### `NOT`: Used to negate a condition."
   ]
  },
  {
   "cell_type": "code",
   "execution_count": 27,
   "metadata": {},
   "outputs": [
    {
     "data": {
      "text/plain": [
       "[(2, 'Jane', 'Smith', 'Marketing', 55000, '2024-04-26', 3, None),\n",
       " (3, 'Michael', 'Johnson', 'Sales', 60000, '2024-04-27', 5, None),\n",
       " (4, 'Emily', 'Davis', 'Operations', 62000, '2024-04-20', 2, None),\n",
       " (5, 'David', 'Wilson', 'Operations', 58000, '2024-04-28', 1, None),\n",
       " (7, 'Robert', 'Anderson', 'Finance', 65000, '2024-04-30', 3, None),\n",
       " (8, 'Patricia', 'Taylor', 'HR', 52000, '2024-05-01', 5, None),\n",
       " (9, 'Christopher', 'Thomas', 'Marketing', 59000, '2024-05-02', 2, None),\n",
       " (10, 'Jennifer', 'Lee', 'Sales', 63000, '2024-05-03', 3, None),\n",
       " (11, 'James', 'White', 'Operations', 56000, '2024-05-04', 4, None),\n",
       " (13, 'Daniel', 'Clark', 'Finance', 64000, '2024-05-06', 5, None),\n",
       " (14, 'Nancy', 'Lewis', 'HR', 53000, '2024-05-07', 2, None),\n",
       " (15, 'Paul', 'Walker', 'Sales', 61000, '2024-05-08', 3, None),\n",
       " (16, 'Karen', 'Hall', 'Marketing', 60000, '2024-05-09', 4, None),\n",
       " (18, 'Elizabeth', 'Young', 'Finance', 62000, '2024-05-11', 2, None),\n",
       " (19, 'George', 'King', 'Operations', 57000, '2024-05-12', 3, None),\n",
       " (20, 'Mary', 'Wright', 'HR', 54000, '2024-05-13', 4, None),\n",
       " (21, 'Brian', 'Lopez', 'Sales', 62000, '2024-05-14', 5, None),\n",
       " (23, 'Anthony', 'Scott', 'Finance', 66000, '2024-05-16', 3, None),\n",
       " (24, 'Deborah', 'Green', 'Marketing', 63000, '2024-05-17', 4, None),\n",
       " (25, 'Larry', 'Adams', 'Operations', 58000, '2024-05-18', 5, None),\n",
       " (26, 'Sarah', 'Nelson', 'HR', 55000, '2024-05-19', 2, None),\n",
       " (27, 'Kenneth', 'Carter', 'Sales', 64000, '2024-05-20', 3, None),\n",
       " (29, 'Ronald', 'Perez', 'Finance', 67000, '2024-05-22', 5, None),\n",
       " (30, 'Laura', 'Roberts', 'Marketing', 65000, '2024-05-23', 2, None)]"
      ]
     },
     "execution_count": 27,
     "metadata": {},
     "output_type": "execute_result"
    }
   ],
   "source": [
    "cursor.execute(\"SELECT * FROM employees WHERE NOT department = 'IT'\")\n",
    "cursor.fetchall()"
   ]
  },
  {
   "cell_type": "markdown",
   "metadata": {},
   "source": [
    "### **Special Operators:**\n",
    "#### `BETWEEN`: Checks if a value falls within a specified range."
   ]
  },
  {
   "cell_type": "code",
   "execution_count": 28,
   "metadata": {},
   "outputs": [
    {
     "data": {
      "text/plain": [
       "[(2, 'Jane', 'Smith', 'Marketing', 55000, '2024-04-26', 3, None),\n",
       " (3, 'Michael', 'Johnson', 'Sales', 60000, '2024-04-27', 5, None),\n",
       " (5, 'David', 'Wilson', 'Operations', 58000, '2024-04-28', 1, None),\n",
       " (9, 'Christopher', 'Thomas', 'Marketing', 59000, '2024-05-02', 2, None),\n",
       " (11, 'James', 'White', 'Operations', 56000, '2024-05-04', 4, None),\n",
       " (16, 'Karen', 'Hall', 'Marketing', 60000, '2024-05-09', 4, None),\n",
       " (19, 'George', 'King', 'Operations', 57000, '2024-05-12', 3, None),\n",
       " (25, 'Larry', 'Adams', 'Operations', 58000, '2024-05-18', 5, None),\n",
       " (26, 'Sarah', 'Nelson', 'HR', 55000, '2024-05-19', 2, None)]"
      ]
     },
     "execution_count": 28,
     "metadata": {},
     "output_type": "execute_result"
    }
   ],
   "source": [
    "cursor.execute(\"\"\"\n",
    "SELECT * FROM employees WHERE salary BETWEEN 55000 and 60000\"\"\")\n",
    "cursor.fetchall()"
   ]
  },
  {
   "cell_type": "markdown",
   "metadata": {},
   "source": [
    "#### `IN`: Checks if a value belongs to a set of values."
   ]
  },
  {
   "cell_type": "code",
   "execution_count": 33,
   "metadata": {},
   "outputs": [
    {
     "data": {
      "text/plain": [
       "[(2, 'Jane', 'Smith', 'Marketing', 55000, '2024-04-26', 3, None, 'passed'),\n",
       " (4, 'Emily', 'Davis', 'Operations', 62000, '2024-04-20', 2, None, 'failed'),\n",
       " (5, 'David', 'Wilson', 'Operations', 58000, '2024-04-28', 1, None, 'failed'),\n",
       " (6, 'Linda', 'Martinez', 'IT', 70000, '2024-04-29', 4, None, 'passed'),\n",
       " (9,\n",
       "  'Christopher',\n",
       "  'Thomas',\n",
       "  'Marketing',\n",
       "  59000,\n",
       "  '2024-05-02',\n",
       "  2,\n",
       "  None,\n",
       "  'failed'),\n",
       " (11, 'James', 'White', 'Operations', 56000, '2024-05-04', 4, None, 'passed'),\n",
       " (12, 'Barbara', 'Harris', 'IT', 68000, '2024-05-05', 1, None, 'failed'),\n",
       " (16, 'Karen', 'Hall', 'Marketing', 60000, '2024-05-09', 4, None, 'passed'),\n",
       " (17, 'Steven', 'Allen', 'IT', 69000, '2024-05-10', 5, None, 'passed'),\n",
       " (19, 'George', 'King', 'Operations', 57000, '2024-05-12', 3, None, 'passed'),\n",
       " (22, 'Megan', 'Hill', 'IT', 71000, '2024-05-15', 2, None, 'failed'),\n",
       " (24, 'Deborah', 'Green', 'Marketing', 63000, '2024-05-17', 4, None, 'passed'),\n",
       " (25, 'Larry', 'Adams', 'Operations', 58000, '2024-05-18', 5, None, 'passed'),\n",
       " (28, 'Betty', 'Mitchell', 'IT', 72000, '2024-05-21', 4, None, 'passed'),\n",
       " (30, 'Laura', 'Roberts', 'Marketing', 65000, '2024-05-23', 2, None, 'failed')]"
      ]
     },
     "execution_count": 33,
     "metadata": {},
     "output_type": "execute_result"
    }
   ],
   "source": [
    "cursor.execute(\"\"\"SELECT * FROM employees\n",
    "               WHERE department IN ('IT', 'Marketing', 'Operations')\"\"\")\n",
    "cursor.fetchall()"
   ]
  },
  {
   "cell_type": "markdown",
   "metadata": {},
   "source": [
    "#### `LIKE`: Used for pattern matching with wildcards."
   ]
  },
  {
   "cell_type": "code",
   "execution_count": 34,
   "metadata": {},
   "outputs": [
    {
     "data": {
      "text/plain": [
       "[('Michael', 'Johnson'),\n",
       " ('David', 'Wilson'),\n",
       " ('Robert', 'Anderson'),\n",
       " ('Sarah', 'Nelson')]"
      ]
     },
     "execution_count": 34,
     "metadata": {},
     "output_type": "execute_result"
    }
   ],
   "source": [
    "# %string - ending substring\n",
    "cursor.execute(\"\"\"\n",
    "SELECT first_name, last_name FROM employees WHERE last_name LIKE '%son';\n",
    "\"\"\")\n",
    "cursor.fetchall()"
   ]
  },
  {
   "cell_type": "code",
   "execution_count": 36,
   "metadata": {},
   "outputs": [
    {
     "data": {
      "text/plain": [
       "[('Jane', 'Smith'), ('James', 'White')]"
      ]
     },
     "execution_count": 36,
     "metadata": {},
     "output_type": "execute_result"
    }
   ],
   "source": [
    "# string% - starting substring\n",
    "cursor.execute(\"\"\"\n",
    "SELECT first_name, last_name FROM employees WHERE first_name LIKE 'ja%';\n",
    "\"\"\")\n",
    "cursor.fetchall()"
   ]
  },
  {
   "cell_type": "code",
   "execution_count": 35,
   "metadata": {},
   "outputs": [
    {
     "data": {
      "text/plain": [
       "[(2, 'Jane', 'Smith', 'Marketing', 55000, '2024-04-26', 3, None, 'passed'),\n",
       " (3, 'Michael', 'Johnson', 'Sales', 60000, '2024-04-27', 5, None, 'passed'),\n",
       " (4, 'Emily', 'Davis', 'Operations', 62000, '2024-04-20', 2, None, 'failed'),\n",
       " (5, 'David', 'Wilson', 'Operations', 58000, '2024-04-28', 1, None, 'failed'),\n",
       " (6, 'Linda', 'Martinez', 'IT', 70000, '2024-04-29', 4, None, 'passed'),\n",
       " (7, 'Robert', 'Anderson', 'Finance', 65000, '2024-04-30', 3, None, 'passed')]"
      ]
     },
     "execution_count": 35,
     "metadata": {},
     "output_type": "execute_result"
    }
   ],
   "source": [
    "# Check for a certain month\n",
    "cursor.execute(\"\"\"SELECT * FROM employees WHERE hire_date LIKE '%-04-%'\"\"\") \n",
    "cursor.fetchall()"
   ]
  },
  {
   "cell_type": "code",
   "execution_count": 37,
   "metadata": {},
   "outputs": [
    {
     "data": {
      "text/plain": [
       "[(2, 'Jane', 'Smith', 'Marketing', 55000, '2024-04-26', 3, None, 'passed'),\n",
       " (3, 'Michael', 'Johnson', 'Sales', 60000, '2024-04-27', 5, None, 'passed'),\n",
       " (4, 'Emily', 'Davis', 'Operations', 62000, '2024-04-20', 2, None, 'failed'),\n",
       " (5, 'David', 'Wilson', 'Operations', 58000, '2024-04-28', 1, None, 'failed'),\n",
       " (6, 'Linda', 'Martinez', 'IT', 70000, '2024-04-29', 4, None, 'passed'),\n",
       " (7, 'Robert', 'Anderson', 'Finance', 65000, '2024-04-30', 3, None, 'passed')]"
      ]
     },
     "execution_count": 37,
     "metadata": {},
     "output_type": "execute_result"
    }
   ],
   "source": [
    "# %string% - contains the substring\n",
    "cursor.execute(\"\"\"SELECT * FROM employees WHERE hire_date LIKE '%-04-%'\"\"\") \n",
    "cursor.fetchall()"
   ]
  },
  {
   "cell_type": "markdown",
   "metadata": {},
   "source": [
    "### **ORDER BY**\n",
    "\n",
    "The **ORDER BY** clause allows you to sort the results of your SELECT queries in either ascending or descending order. It lets you sort the retrieved data based on one or more columns, making it easier to analyze and interpret."
   ]
  },
  {
   "cell_type": "markdown",
   "metadata": {},
   "source": [
    "#### `ASC:` Ascending order (lowest to highest). (Default)"
   ]
  },
  {
   "cell_type": "code",
   "execution_count": 38,
   "metadata": {},
   "outputs": [
    {
     "data": {
      "text/plain": [
       "[(25, 'Larry', 'Adams', 'Operations', 58000, '2024-05-18', 5, None, 'passed'),\n",
       " (17, 'Steven', 'Allen', 'IT', 69000, '2024-05-10', 5, None, 'passed'),\n",
       " (7, 'Robert', 'Anderson', 'Finance', 65000, '2024-04-30', 3, None, 'passed'),\n",
       " (27, 'Kenneth', 'Carter', 'Sales', 64000, '2024-05-20', 3, None, 'passed'),\n",
       " (13, 'Daniel', 'Clark', 'Finance', 64000, '2024-05-06', 5, None, 'passed'),\n",
       " (4, 'Emily', 'Davis', 'Operations', 62000, '2024-04-20', 2, None, 'failed'),\n",
       " (24, 'Deborah', 'Green', 'Marketing', 63000, '2024-05-17', 4, None, 'passed'),\n",
       " (16, 'Karen', 'Hall', 'Marketing', 60000, '2024-05-09', 4, None, 'passed'),\n",
       " (12, 'Barbara', 'Harris', 'IT', 68000, '2024-05-05', 1, None, 'failed'),\n",
       " (22, 'Megan', 'Hill', 'IT', 71000, '2024-05-15', 2, None, 'failed'),\n",
       " (3, 'Michael', 'Johnson', 'Sales', 60000, '2024-04-27', 5, None, 'passed'),\n",
       " (19, 'George', 'King', 'Operations', 57000, '2024-05-12', 3, None, 'passed'),\n",
       " (10, 'Jennifer', 'Lee', 'Sales', 63000, '2024-05-03', 3, None, 'passed'),\n",
       " (14, 'Nancy', 'Lewis', 'HR', 53000, '2024-05-07', 2, None, 'failed'),\n",
       " (21, 'Brian', 'Lopez', 'Sales', 62000, '2024-05-14', 5, None, 'passed'),\n",
       " (6, 'Linda', 'Martinez', 'IT', 70000, '2024-04-29', 4, None, 'passed'),\n",
       " (28, 'Betty', 'Mitchell', 'IT', 72000, '2024-05-21', 4, None, 'passed'),\n",
       " (26, 'Sarah', 'Nelson', 'HR', 55000, '2024-05-19', 2, None, 'failed'),\n",
       " (29, 'Ronald', 'Perez', 'Finance', 67000, '2024-05-22', 5, None, 'passed'),\n",
       " (30, 'Laura', 'Roberts', 'Marketing', 65000, '2024-05-23', 2, None, 'failed'),\n",
       " (23, 'Anthony', 'Scott', 'Finance', 66000, '2024-05-16', 3, None, 'passed'),\n",
       " (2, 'Jane', 'Smith', 'Marketing', 55000, '2024-04-26', 3, None, 'passed'),\n",
       " (8, 'Patricia', 'Taylor', 'HR', 52000, '2024-05-01', 5, None, 'passed'),\n",
       " (9,\n",
       "  'Christopher',\n",
       "  'Thomas',\n",
       "  'Marketing',\n",
       "  59000,\n",
       "  '2024-05-02',\n",
       "  2,\n",
       "  None,\n",
       "  'failed'),\n",
       " (15, 'Paul', 'Walker', 'Sales', 61000, '2024-05-08', 3, None, 'passed'),\n",
       " (11, 'James', 'White', 'Operations', 56000, '2024-05-04', 4, None, 'passed'),\n",
       " (5, 'David', 'Wilson', 'Operations', 58000, '2024-04-28', 1, None, 'failed'),\n",
       " (20, 'Mary', 'Wright', 'HR', 54000, '2024-05-13', 4, None, 'passed'),\n",
       " (18, 'Elizabeth', 'Young', 'Finance', 62000, '2024-05-11', 2, None, 'failed')]"
      ]
     },
     "execution_count": 38,
     "metadata": {},
     "output_type": "execute_result"
    }
   ],
   "source": [
    "cursor.execute(\"\"\"\n",
    "SELECT * FROM employees\n",
    "ORDER BY last_name ASC\n",
    "\"\"\")\n",
    "cursor.fetchall()"
   ]
  },
  {
   "cell_type": "markdown",
   "metadata": {},
   "source": [
    "#### `DESC:` Descending order (highest to lowest)."
   ]
  },
  {
   "cell_type": "code",
   "execution_count": 40,
   "metadata": {},
   "outputs": [
    {
     "data": {
      "text/plain": [
       "[(28, 'Betty', 'Mitchell', 'IT', 72000, '2024-05-21', 4, None, 'passed'),\n",
       " (22, 'Megan', 'Hill', 'IT', 71000, '2024-05-15', 2, None, 'failed'),\n",
       " (6, 'Linda', 'Martinez', 'IT', 70000, '2024-04-29', 4, None, 'passed'),\n",
       " (17, 'Steven', 'Allen', 'IT', 69000, '2024-05-10', 5, None, 'passed'),\n",
       " (12, 'Barbara', 'Harris', 'IT', 68000, '2024-05-05', 1, None, 'failed'),\n",
       " (29, 'Ronald', 'Perez', 'Finance', 67000, '2024-05-22', 5, None, 'passed'),\n",
       " (23, 'Anthony', 'Scott', 'Finance', 66000, '2024-05-16', 3, None, 'passed'),\n",
       " (7, 'Robert', 'Anderson', 'Finance', 65000, '2024-04-30', 3, None, 'passed'),\n",
       " (30, 'Laura', 'Roberts', 'Marketing', 65000, '2024-05-23', 2, None, 'failed'),\n",
       " (13, 'Daniel', 'Clark', 'Finance', 64000, '2024-05-06', 5, None, 'passed'),\n",
       " (27, 'Kenneth', 'Carter', 'Sales', 64000, '2024-05-20', 3, None, 'passed'),\n",
       " (10, 'Jennifer', 'Lee', 'Sales', 63000, '2024-05-03', 3, None, 'passed'),\n",
       " (24, 'Deborah', 'Green', 'Marketing', 63000, '2024-05-17', 4, None, 'passed'),\n",
       " (4, 'Emily', 'Davis', 'Operations', 62000, '2024-04-20', 2, None, 'failed'),\n",
       " (18, 'Elizabeth', 'Young', 'Finance', 62000, '2024-05-11', 2, None, 'failed'),\n",
       " (21, 'Brian', 'Lopez', 'Sales', 62000, '2024-05-14', 5, None, 'passed'),\n",
       " (15, 'Paul', 'Walker', 'Sales', 61000, '2024-05-08', 3, None, 'passed'),\n",
       " (3, 'Michael', 'Johnson', 'Sales', 60000, '2024-04-27', 5, None, 'passed'),\n",
       " (16, 'Karen', 'Hall', 'Marketing', 60000, '2024-05-09', 4, None, 'passed'),\n",
       " (9,\n",
       "  'Christopher',\n",
       "  'Thomas',\n",
       "  'Marketing',\n",
       "  59000,\n",
       "  '2024-05-02',\n",
       "  2,\n",
       "  None,\n",
       "  'failed'),\n",
       " (5, 'David', 'Wilson', 'Operations', 58000, '2024-04-28', 1, None, 'failed'),\n",
       " (25, 'Larry', 'Adams', 'Operations', 58000, '2024-05-18', 5, None, 'passed'),\n",
       " (19, 'George', 'King', 'Operations', 57000, '2024-05-12', 3, None, 'passed'),\n",
       " (11, 'James', 'White', 'Operations', 56000, '2024-05-04', 4, None, 'passed'),\n",
       " (2, 'Jane', 'Smith', 'Marketing', 55000, '2024-04-26', 3, None, 'passed'),\n",
       " (26, 'Sarah', 'Nelson', 'HR', 55000, '2024-05-19', 2, None, 'failed'),\n",
       " (20, 'Mary', 'Wright', 'HR', 54000, '2024-05-13', 4, None, 'passed'),\n",
       " (14, 'Nancy', 'Lewis', 'HR', 53000, '2024-05-07', 2, None, 'failed'),\n",
       " (8, 'Patricia', 'Taylor', 'HR', 52000, '2024-05-01', 5, None, 'passed')]"
      ]
     },
     "execution_count": 40,
     "metadata": {},
     "output_type": "execute_result"
    }
   ],
   "source": [
    "cursor.execute(\"\"\"\n",
    "SELECT * FROM employees\n",
    "ORDER BY salary DESC\n",
    "\"\"\")\n",
    "cursor.fetchall()"
   ]
  },
  {
   "cell_type": "markdown",
   "metadata": {},
   "source": [
    "Report: \n",
    "1. Employees at the IT Department have the highest salary followed by the Finance.\n",
    "2. HR have the lowest salary.\n",
    "3. Megan Hill and Barbara Harris have a high salary but poor performance.\n",
    "4. Patricia Taylor from HR department have great performance but extremely low salary."
   ]
  },
  {
   "cell_type": "markdown",
   "metadata": {},
   "source": [
    "1. Larry Adams with a rating of 5 has the same salary as David Wilson with a poor rating of 1."
   ]
  },
  {
   "cell_type": "markdown",
   "metadata": {},
   "source": [
    "### **GROUP BY**\n",
    "\n",
    "The **GROUP BY** clause is used to organize and summarize data by grouping rows with the same values in one or more columns. This helps you analyze trends, patterns, and aggregate statistics within your data."
   ]
  },
  {
   "cell_type": "markdown",
   "metadata": {},
   "source": [
    "#### Grouping with `COUNT()`"
   ]
  },
  {
   "cell_type": "code",
   "execution_count": 41,
   "metadata": {},
   "outputs": [
    {
     "data": {
      "text/plain": [
       "[('Finance', 5),\n",
       " ('HR', 4),\n",
       " ('IT', 5),\n",
       " ('Marketing', 5),\n",
       " ('Operations', 5),\n",
       " ('Sales', 5)]"
      ]
     },
     "execution_count": 41,
     "metadata": {},
     "output_type": "execute_result"
    }
   ],
   "source": [
    "cursor.execute(\"\"\"\n",
    "SELECT department, COUNT(*) FROM employees\n",
    "               GROUP BY department\n",
    "\"\"\")\n",
    "cursor.fetchall()"
   ]
  },
  {
   "cell_type": "markdown",
   "metadata": {},
   "source": [
    "#### Grouping with `SUM()`"
   ]
  },
  {
   "cell_type": "code",
   "execution_count": 43,
   "metadata": {},
   "outputs": [
    {
     "data": {
      "text/plain": [
       "[('IT', 350000),\n",
       " ('Finance', 324000),\n",
       " ('Operations', 291000),\n",
       " ('Sales', 310000),\n",
       " ('Marketing', 302000),\n",
       " ('HR', 214000)]"
      ]
     },
     "execution_count": 43,
     "metadata": {},
     "output_type": "execute_result"
    }
   ],
   "source": [
    "cursor.execute(\"\"\"\n",
    "SELECT department, SUM(salary) FROM employees\n",
    "               GROUP BY department ORDER BY salary DESC\n",
    "\"\"\")\n",
    "cursor.fetchall()"
   ]
  },
  {
   "cell_type": "markdown",
   "metadata": {},
   "source": [
    "#### Grouping with `AVG()`"
   ]
  },
  {
   "cell_type": "code",
   "execution_count": 45,
   "metadata": {},
   "outputs": [
    {
     "data": {
      "text/plain": [
       "[('IT', 70000.0),\n",
       " ('Finance', 64800.0),\n",
       " ('Sales', 62000.0),\n",
       " ('Marketing', 60400.0),\n",
       " ('Operations', 58200.0),\n",
       " ('HR', 53500.0)]"
      ]
     },
     "execution_count": 45,
     "metadata": {},
     "output_type": "execute_result"
    }
   ],
   "source": [
    "cursor.execute(\"\"\"\n",
    "SELECT department, AVG(salary) FROM employees\n",
    "               GROUP BY department ORDER BY AVG(salary) DESC\n",
    "\"\"\")\n",
    "cursor.fetchall()"
   ]
  },
  {
   "cell_type": "markdown",
   "metadata": {},
   "source": [
    "#### Grouping with `MAX()` and `MIN()`"
   ]
  },
  {
   "cell_type": "code",
   "execution_count": 46,
   "metadata": {},
   "outputs": [
    {
     "data": {
      "text/plain": [
       "[('HR', 52000, 55000),\n",
       " ('Marketing', 55000, 65000),\n",
       " ('Operations', 56000, 62000),\n",
       " ('Sales', 60000, 64000),\n",
       " ('Finance', 62000, 67000),\n",
       " ('IT', 68000, 72000)]"
      ]
     },
     "execution_count": 46,
     "metadata": {},
     "output_type": "execute_result"
    }
   ],
   "source": [
    "cursor.execute(\"\"\"\n",
    "SELECT department, MIN(salary), MAX(salary) FROM employees\n",
    "               GROUP BY department ORDER BY MIN(salary) ASC;\n",
    "\"\"\")\n",
    "cursor.fetchall()"
   ]
  }
 ],
 "metadata": {
  "kernelspec": {
   "display_name": "Python 3",
   "language": "python",
   "name": "python3"
  },
  "language_info": {
   "codemirror_mode": {
    "name": "ipython",
    "version": 3
   },
   "file_extension": ".py",
   "mimetype": "text/x-python",
   "name": "python",
   "nbconvert_exporter": "python",
   "pygments_lexer": "ipython3",
   "version": "3.13.0"
  }
 },
 "nbformat": 4,
 "nbformat_minor": 2
}
