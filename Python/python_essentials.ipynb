{
 "cells": [
  {
   "cell_type": "markdown",
   "metadata": {},
   "source": [
    "# **Python Key Points**\n",
    "1. **Interpreted Language**: Python is an interpreted language, which means that code is executed line by line by the Python interpreter. This allows for easier debugging and faster development cycles.\n",
    "2. **High-Level Language**: Python is designed to be human-readable and has a simple and easy-to-learn syntax. This makes it suitable for beginners and experienced programmers alike.\n",
    "3. **Dynamically Typed**: Python is dynamically typed, meaning that you don't need to declare variable types explicitly. The type of a variable is inferred at runtime based on the value assigned to it.\n",
    "4. **Indentation**: Python uses indentation to define code blocks instead of curly braces or keywords like begin and end. This enforces clean and readable code but can also lead to syntax errors if not used correctly.\n",
    "5. **Versatile Usage**: Python is used for a wide range of applications, including web development, data science, machine learning, artificial intelligence, scientific computing, automation, scripting, and more. Its versatility and ease of use make it a popular choice across industries."
   ]
  },
  {
   "cell_type": "markdown",
   "metadata": {},
   "source": [
    "### Install `ipykernel`\n",
    "1. Run the cell then it will pop up a message saying.\n",
    "2. Running cells with `Python Version` requires ipykernel. \n",
    "3. Click install"
   ]
  },
  {
   "cell_type": "code",
   "execution_count": 13,
   "metadata": {},
   "outputs": [
    {
     "name": "stdout",
     "output_type": "stream",
     "text": [
      "Hello World!\n",
      "Hello Jok\n"
     ]
    }
   ],
   "source": [
    "print(\"Hello World!\")\n",
    "print(\"Hello Jok\")"
   ]
  },
  {
   "cell_type": "markdown",
   "metadata": {},
   "source": [
    "## **Commenting**\n",
    "Commenting is the process of adding annotations or remarks within your code to provide explanations, context, or documentation. Comments are not executed by the interpreter/compiler and are purely for the benefit of developers reading the code.\n",
    "\n",
    "#### **Types of Comments:**"
   ]
  },
  {
   "cell_type": "markdown",
   "metadata": {},
   "source": [
    "- **Single-Line Comments:** These comments start with a specific character (e.g., # in Python) and continue until the end of the line. They are suitable for brief annotations or remarks on individual lines of code."
   ]
  },
  {
   "cell_type": "code",
   "execution_count": 14,
   "metadata": {},
   "outputs": [
    {
     "name": "stdout",
     "output_type": "stream",
     "text": [
      "Hello World\n"
     ]
    }
   ],
   "source": [
    "# This is a single-line comment.\n",
    "print(\"Hello World\")"
   ]
  },
  {
   "cell_type": "markdown",
   "metadata": {},
   "source": [
    "- **Multi-Line Comments:** While many programming languages support multi-line comments, Python does not have an explicit syntax for them. However, multi-line strings (docstrings) enclosed in triple quotes (\"\"\") are often used for this purpose. They are primarily intended for documenting modules, classes, functions, and methods."
   ]
  },
  {
   "cell_type": "code",
   "execution_count": 15,
   "metadata": {},
   "outputs": [
    {
     "name": "stdout",
     "output_type": "stream",
     "text": [
      "Hello World\n"
     ]
    }
   ],
   "source": [
    "\"\"\"\n",
    "    This is \n",
    "    a multi-line\n",
    "    comment.\n",
    "\"\"\"\n",
    "print(\"Hello World\")"
   ]
  },
  {
   "cell_type": "markdown",
   "metadata": {},
   "source": [
    "- **Inline Comments:** Inline comments appear on the same line as code and provide additional context or explanation for that specific line of code. However, excessive use of inline comments can clutter the code and reduce readability, so they should be used sparingly and only when necessary."
   ]
  },
  {
   "cell_type": "code",
   "execution_count": 16,
   "metadata": {},
   "outputs": [
    {
     "name": "stdout",
     "output_type": "stream",
     "text": [
      "Hello World\n"
     ]
    }
   ],
   "source": [
    "print(\"Hello World\") # This is an inline-comment"
   ]
  },
  {
   "cell_type": "markdown",
   "metadata": {},
   "source": [
    "## **Variables**\n",
    "\n",
    "#### **Creating Variables**\n",
    "\n",
    "Creating a variable in Python is simple. You assign a value to a variable name and start using it. Python figures out the variable type automatically.\n",
    "\n",
    "#### **Variable Naming Rules**\n",
    "- Variable names can contain letters (both uppercase and lowercase), digits, and underscores.\n",
    "- They must begin with a letter or an underscore (_), but not with a digit.\n",
    "- Case sensitive (myVar and myvar are different variables)\n",
    "- Python keywords cannot be used as variable names."
   ]
  },
  {
   "cell_type": "code",
   "execution_count": 17,
   "metadata": {},
   "outputs": [
    {
     "name": "stdout",
     "output_type": "stream",
     "text": [
      "10\n",
      "5\n",
      "10 5\n",
      "15\n"
     ]
    }
   ],
   "source": [
    "number = 10\n",
    "Number = 5\n",
    "second_number = 15 # Snake Case naming convention.\n",
    "print(number)\n",
    "print(Number)\n",
    "print(number, Number)\n",
    "print(second_number)"
   ]
  },
  {
   "cell_type": "code",
   "execution_count": 18,
   "metadata": {},
   "outputs": [
    {
     "name": "stdout",
     "output_type": "stream",
     "text": [
      "Hello World\n"
     ]
    }
   ],
   "source": [
    "# Python keywords cannot be used as variable names.\n",
    "# print = \"print\"\n",
    "print(\"Hello World\")"
   ]
  },
  {
   "cell_type": "markdown",
   "metadata": {},
   "source": [
    "## **Numeric Data Types**\n",
    "\n",
    "- **int** - Integer values, such as `5`, `-3`, `1000`, etc."
   ]
  },
  {
   "cell_type": "code",
   "execution_count": 19,
   "metadata": {},
   "outputs": [
    {
     "name": "stdout",
     "output_type": "stream",
     "text": [
      "30\n",
      "-30\n",
      "<class 'int'>\n",
      "<class 'int'>\n",
      "<class 'int'>\n"
     ]
    }
   ],
   "source": [
    "positive_integer = 30\n",
    "negative_integer = -30\n",
    "zero = 0\n",
    "print(positive_integer)\n",
    "print(negative_integer)\n",
    "# type(): identify the data type of a certain variable\n",
    "print(type(positive_integer))\n",
    "print(type(negative_integer))\n",
    "print(type(zero))"
   ]
  },
  {
   "cell_type": "markdown",
   "metadata": {},
   "source": [
    "- **float**: Floating-point values, representing decimal numbers, such as `3.14`, `-0.001`, `2.0`, etc."
   ]
  },
  {
   "cell_type": "code",
   "execution_count": 20,
   "metadata": {},
   "outputs": [
    {
     "name": "stdout",
     "output_type": "stream",
     "text": [
      "3.14 -3.14\n",
      "<class 'float'>\n",
      "<class 'float'>\n"
     ]
    }
   ],
   "source": [
    "positive_float = 3.14\n",
    "negative_float = -3.14\n",
    "print(positive_float, negative_float)\n",
    "print(type(positive_float))\n",
    "print(type(negative_float))"
   ]
  },
  {
   "cell_type": "markdown",
   "metadata": {},
   "source": [
    "## **Operators and Expressions**\n",
    "\n",
    "### **Arithmetic Operators**"
   ]
  },
  {
   "cell_type": "code",
   "execution_count": null,
   "metadata": {},
   "outputs": [],
   "source": []
  },
  {
   "cell_type": "markdown",
   "metadata": {},
   "source": [
    "### **Assignment Operators**"
   ]
  },
  {
   "cell_type": "code",
   "execution_count": null,
   "metadata": {},
   "outputs": [],
   "source": []
  },
  {
   "cell_type": "markdown",
   "metadata": {},
   "source": [
    "## **Boolean Data Type**\n",
    "- **bool**: Boolean values representing True or False."
   ]
  },
  {
   "cell_type": "code",
   "execution_count": null,
   "metadata": {},
   "outputs": [],
   "source": []
  },
  {
   "cell_type": "markdown",
   "metadata": {},
   "source": [
    "### **Comparison Operators**"
   ]
  },
  {
   "cell_type": "code",
   "execution_count": null,
   "metadata": {},
   "outputs": [],
   "source": []
  },
  {
   "cell_type": "markdown",
   "metadata": {},
   "source": [
    "### **Logical Operators**"
   ]
  },
  {
   "cell_type": "code",
   "execution_count": null,
   "metadata": {},
   "outputs": [],
   "source": []
  },
  {
   "cell_type": "markdown",
   "metadata": {},
   "source": [
    "## **Strings and String Methods**\n",
    "\n",
    "Strings are sequences of characters and are among the most used data types in Python, especially in data analytics for processing text data.\n",
    "\n",
    "#### **Introduction to Strings**\n",
    "\n",
    "Strings in Python are created by enclosing characters in quotes. Python treats single quotes (') and double quotes (\") as the same, allowing you to incorporate one type of quote within another including an apostrophe within a string.\n",
    "\n",
    "#### **Creating and Accessing Strings**"
   ]
  },
  {
   "cell_type": "code",
   "execution_count": null,
   "metadata": {},
   "outputs": [],
   "source": []
  },
  {
   "cell_type": "markdown",
   "metadata": {},
   "source": [
    "### **String Methods**"
   ]
  },
  {
   "cell_type": "code",
   "execution_count": null,
   "metadata": {},
   "outputs": [],
   "source": []
  },
  {
   "cell_type": "markdown",
   "metadata": {},
   "source": [
    "### **Concatenation, Formatted String, and .format() Method**"
   ]
  },
  {
   "cell_type": "markdown",
   "metadata": {},
   "source": [
    "- **Concatenation**"
   ]
  },
  {
   "cell_type": "code",
   "execution_count": null,
   "metadata": {},
   "outputs": [],
   "source": []
  },
  {
   "cell_type": "markdown",
   "metadata": {},
   "source": [
    "- **Formatted Strings Literals (f-strings)** "
   ]
  },
  {
   "cell_type": "code",
   "execution_count": null,
   "metadata": {},
   "outputs": [],
   "source": []
  },
  {
   "cell_type": "markdown",
   "metadata": {},
   "source": [
    "- **.format() method**"
   ]
  },
  {
   "cell_type": "code",
   "execution_count": null,
   "metadata": {},
   "outputs": [],
   "source": []
  },
  {
   "cell_type": "markdown",
   "metadata": {},
   "source": [
    "## **Lists and List Methods**\n",
    "\n",
    "#### **Introduction to Lists**\n",
    "\n",
    "Lists are mutable sequences, meaning you can modify them after creation. They can contain items of any type, making them incredibly versatile for data collection and manipulation tasks.\n",
    "\n",
    "- Mutability: Lists are mutable, meaning their elements can be changed after creation.\n",
    "- Syntax: Lists are enclosed in square brackets ([]), and elements are separated by commas.\n",
    "- Indexing and Ordering: Lists are ordered collections, preserving the order of elements. Elements can be accessed using indices.\n",
    "- Usage: Lists are suitable for mutable sequences of items, like arrays, stacks, or queues.\n",
    "\n",
    "#### **Creating and Modifying Lists**"
   ]
  },
  {
   "cell_type": "code",
   "execution_count": null,
   "metadata": {},
   "outputs": [],
   "source": []
  },
  {
   "cell_type": "markdown",
   "metadata": {},
   "source": [
    "#### **List Methods**"
   ]
  },
  {
   "cell_type": "code",
   "execution_count": null,
   "metadata": {},
   "outputs": [],
   "source": []
  },
  {
   "cell_type": "markdown",
   "metadata": {},
   "source": [
    "#### **List Extending**"
   ]
  },
  {
   "cell_type": "code",
   "execution_count": null,
   "metadata": {},
   "outputs": [],
   "source": []
  },
  {
   "cell_type": "markdown",
   "metadata": {},
   "source": [
    "#### **Sorting List**"
   ]
  },
  {
   "cell_type": "code",
   "execution_count": null,
   "metadata": {},
   "outputs": [],
   "source": []
  },
  {
   "cell_type": "markdown",
   "metadata": {},
   "source": [
    "## **Tuples**\n",
    "\n",
    "**Introduction to Tuples**\n",
    "\n",
    "Tuples are ordered collections of items, just like lists. However, their immutability makes them useful for fixed data sequences and can serve as keys in dictionaries due to their hashable nature.\n",
    "\n",
    "- Mutability: Tuples are immutable, meaning their elements cannot be changed after creation.\n",
    "- Syntax: Tuples are enclosed in parentheses (()), and elements are separated by commas.\n",
    "- Indexing and Ordering: Tuples are ordered collections, preserving the order of elements. Elements can be accessed using indices.\n",
    "- Usage: Tuples are suitable for immutable sequences, often used for fixed collections of data.\n",
    "\n",
    "#### **Creating a tuple**"
   ]
  },
  {
   "cell_type": "code",
   "execution_count": null,
   "metadata": {},
   "outputs": [],
   "source": []
  },
  {
   "cell_type": "markdown",
   "metadata": {},
   "source": [
    "#### **Accessing Elements**"
   ]
  },
  {
   "cell_type": "code",
   "execution_count": null,
   "metadata": {},
   "outputs": [],
   "source": []
  },
  {
   "cell_type": "markdown",
   "metadata": {},
   "source": [
    "#### **Tuple Immutability**"
   ]
  },
  {
   "cell_type": "code",
   "execution_count": null,
   "metadata": {},
   "outputs": [],
   "source": []
  },
  {
   "cell_type": "markdown",
   "metadata": {},
   "source": [
    "## **Dictionaries and Dictionary Methods**\n",
    "\n",
    "#### **Introduction to Dictionaries**\n",
    "\n",
    "Dictionaries in Python are unordered collections of items. While lists are indexed by a range of numbers, dictionaries are indexed by keys, which can be any immutable type; strings and numbers can always be keys.\n",
    "- Mutability: Dictionaries are mutable, meaning they can be modified by adding, updating, or removing key-value pairs.\n",
    "- Syntax: Dictionaries are enclosed in curly braces ({}), with key-value pairs separated by colons (:) and items separated by commas.\n",
    "- Indexing and Ordering: Dictionaries are unordered collections, and elements are accessed using keys rather than indices.\n",
    "- Usage: Dictionaries are suitable for key-value mappings, efficient lookup, and representing structured data\n",
    "\n",
    "#### **Creating a dictionary and accessing values**"
   ]
  },
  {
   "cell_type": "code",
   "execution_count": null,
   "metadata": {},
   "outputs": [],
   "source": []
  },
  {
   "cell_type": "markdown",
   "metadata": {},
   "source": [
    "#### **Dictionary Methods**"
   ]
  },
  {
   "cell_type": "code",
   "execution_count": null,
   "metadata": {},
   "outputs": [],
   "source": []
  },
  {
   "cell_type": "markdown",
   "metadata": {},
   "source": [
    "## **Control Flow and Statements**"
   ]
  },
  {
   "cell_type": "markdown",
   "metadata": {},
   "source": [
    "#### **Conditional Statements:** \n",
    "Allow us to execute different blocks of code based on a condition.\n",
    "\n",
    "- **if, elif, else statements**"
   ]
  },
  {
   "cell_type": "code",
   "execution_count": null,
   "metadata": {},
   "outputs": [],
   "source": []
  },
  {
   "cell_type": "markdown",
   "metadata": {},
   "source": [
    "#### **Looping Statements:** \n",
    "Repeatedly execute a block of code until a specific condition is met.\n",
    "\n",
    "- **for Loop**"
   ]
  },
  {
   "cell_type": "code",
   "execution_count": null,
   "metadata": {},
   "outputs": [],
   "source": []
  },
  {
   "cell_type": "markdown",
   "metadata": {},
   "source": [
    "## **Functions**\n",
    "\n",
    "- Groups code together into a block.\n",
    "- Allows us to call and reuse code efficently.\n",
    "- It could take in information (parameters) and return information (return statement) to the caller."
   ]
  },
  {
   "cell_type": "code",
   "execution_count": null,
   "metadata": {},
   "outputs": [],
   "source": []
  }
 ],
 "metadata": {
  "kernelspec": {
   "display_name": "Python 3",
   "language": "python",
   "name": "python3"
  },
  "language_info": {
   "codemirror_mode": {
    "name": "ipython",
    "version": 3
   },
   "file_extension": ".py",
   "mimetype": "text/x-python",
   "name": "python",
   "nbconvert_exporter": "python",
   "pygments_lexer": "ipython3",
   "version": "3.13.0"
  }
 },
 "nbformat": 4,
 "nbformat_minor": 2
}
